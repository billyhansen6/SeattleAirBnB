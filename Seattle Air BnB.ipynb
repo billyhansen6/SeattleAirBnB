{
 "cells": [
  {
   "cell_type": "markdown",
   "metadata": {},
   "source": [
    "## Seattle Air BnB Analysis\n",
    "\n",
    "### Business Understanding\n",
    "\n",
    "For this project I'm going to use the Seattle Air BnB Datasets from https://github.com/billyhansen6/SeattleAirBnB.git. Datasets which \"describe the listing activity of homestays in Seattle, WA.\" I'd like to create a model that predicts the price of a listing, and also answer the following questions:\n",
    "\n",
    "- At what time of year are the listings most expensive? When are they least expensive?\n",
    "- What property types are the most and least expensive?\n",
    "- What kinds of hosts generally receive good reviews? What about bad reviews?"
   ]
  },
  {
   "cell_type": "code",
   "execution_count": 1,
   "metadata": {},
   "outputs": [],
   "source": [
    "import numpy as np\n",
    "import pandas as pd\n",
    "import matplotlib.pyplot as plt\n",
    "import seaborn as sns\n",
    "from datetime import date\n",
    "from sklearn.ensemble import RandomForestRegressor\n",
    "from sklearn.linear_model import LinearRegression\n",
    "from sklearn.model_selection import cross_val_score\n",
    "import os"
   ]
  },
  {
   "cell_type": "markdown",
   "metadata": {},
   "source": [
    "### Data Understanding"
   ]
  },
  {
   "cell_type": "code",
   "execution_count": null,
   "metadata": {},
   "outputs": [],
   "source": [
    "os.chdir(r'C:\\Users\\Billy Hansen\\Desktop\\Kaggle Practice\\Seattle Air BnB') # Enter Working Directory\n",
    "# Load Data\n",
    "calendar = pd.read_csv('calendar.csv')\n",
    "listings = pd.read_csv('listings.csv')"
   ]
  },
  {
   "cell_type": "code",
   "execution_count": 6,
   "metadata": {},
   "outputs": [
    {
     "data": {
      "text/html": [
       "<div>\n",
       "<style scoped>\n",
       "    .dataframe tbody tr th:only-of-type {\n",
       "        vertical-align: middle;\n",
       "    }\n",
       "\n",
       "    .dataframe tbody tr th {\n",
       "        vertical-align: top;\n",
       "    }\n",
       "\n",
       "    .dataframe thead th {\n",
       "        text-align: right;\n",
       "    }\n",
       "</style>\n",
       "<table border=\"1\" class=\"dataframe\">\n",
       "  <thead>\n",
       "    <tr style=\"text-align: right;\">\n",
       "      <th></th>\n",
       "      <th>listing_id</th>\n",
       "      <th>date</th>\n",
       "      <th>available</th>\n",
       "      <th>price</th>\n",
       "    </tr>\n",
       "  </thead>\n",
       "  <tbody>\n",
       "    <tr>\n",
       "      <th>0</th>\n",
       "      <td>241032</td>\n",
       "      <td>2016-01-04</td>\n",
       "      <td>t</td>\n",
       "      <td>$85.00</td>\n",
       "    </tr>\n",
       "    <tr>\n",
       "      <th>1</th>\n",
       "      <td>241032</td>\n",
       "      <td>2016-01-05</td>\n",
       "      <td>t</td>\n",
       "      <td>$85.00</td>\n",
       "    </tr>\n",
       "    <tr>\n",
       "      <th>2</th>\n",
       "      <td>241032</td>\n",
       "      <td>2016-01-06</td>\n",
       "      <td>f</td>\n",
       "      <td>NaN</td>\n",
       "    </tr>\n",
       "    <tr>\n",
       "      <th>3</th>\n",
       "      <td>241032</td>\n",
       "      <td>2016-01-07</td>\n",
       "      <td>f</td>\n",
       "      <td>NaN</td>\n",
       "    </tr>\n",
       "    <tr>\n",
       "      <th>4</th>\n",
       "      <td>241032</td>\n",
       "      <td>2016-01-08</td>\n",
       "      <td>f</td>\n",
       "      <td>NaN</td>\n",
       "    </tr>\n",
       "  </tbody>\n",
       "</table>\n",
       "</div>"
      ],
      "text/plain": [
       "   listing_id        date available   price\n",
       "0      241032  2016-01-04         t  $85.00\n",
       "1      241032  2016-01-05         t  $85.00\n",
       "2      241032  2016-01-06         f     NaN\n",
       "3      241032  2016-01-07         f     NaN\n",
       "4      241032  2016-01-08         f     NaN"
      ]
     },
     "execution_count": 6,
     "metadata": {},
     "output_type": "execute_result"
    }
   ],
   "source": [
    "# Look at calendar data\n",
    "calendar.head()"
   ]
  },
  {
   "cell_type": "code",
   "execution_count": 7,
   "metadata": {},
   "outputs": [
    {
     "data": {
      "text/plain": [
       "'2016-01-04'"
      ]
     },
     "execution_count": 7,
     "metadata": {},
     "output_type": "execute_result"
    }
   ],
   "source": [
    "calendar.date.min()"
   ]
  },
  {
   "cell_type": "code",
   "execution_count": 8,
   "metadata": {},
   "outputs": [
    {
     "data": {
      "text/plain": [
       "'2017-01-02'"
      ]
     },
     "execution_count": 8,
     "metadata": {},
     "output_type": "execute_result"
    }
   ],
   "source": [
    "calendar.date.max()"
   ]
  },
  {
   "cell_type": "markdown",
   "metadata": {},
   "source": [
    "The dataset describes just about one full year of data."
   ]
  },
  {
   "cell_type": "code",
   "execution_count": 9,
   "metadata": {},
   "outputs": [
    {
     "data": {
      "text/plain": [
       "listing_id         0\n",
       "date               0\n",
       "available          0\n",
       "price         459028\n",
       "dtype: int64"
      ]
     },
     "execution_count": 9,
     "metadata": {},
     "output_type": "execute_result"
    }
   ],
   "source": [
    "calendar.isnull().sum() # Check null counts"
   ]
  },
  {
   "cell_type": "code",
   "execution_count": 10,
   "metadata": {},
   "outputs": [
    {
     "data": {
      "text/plain": [
       "listing_id    0.00000\n",
       "date          0.00000\n",
       "available     0.00000\n",
       "price         0.32939\n",
       "dtype: float64"
      ]
     },
     "execution_count": 10,
     "metadata": {},
     "output_type": "execute_result"
    }
   ],
   "source": [
    "calendar.isnull().mean() # Check null means"
   ]
  },
  {
   "cell_type": "code",
   "execution_count": 11,
   "metadata": {},
   "outputs": [
    {
     "data": {
      "text/plain": [
       "listing_id    0\n",
       "date          0\n",
       "available     0\n",
       "price         0\n",
       "dtype: int64"
      ]
     },
     "execution_count": 11,
     "metadata": {},
     "output_type": "execute_result"
    }
   ],
   "source": [
    "# Are there any null values for price when the listing is available?\n",
    "calendar[calendar['available'] == 't'].isnull().sum()"
   ]
  },
  {
   "cell_type": "code",
   "execution_count": 12,
   "metadata": {},
   "outputs": [
    {
     "name": "stdout",
     "output_type": "stream",
     "text": [
      "There are a total of 3818 unique listings.\n"
     ]
    }
   ],
   "source": [
    "# How many unique listings?\n",
    "print('There are a total of {} unique listings.'.format(len(calendar.listing_id.unique())))"
   ]
  },
  {
   "cell_type": "code",
   "execution_count": 13,
   "metadata": {},
   "outputs": [
    {
     "name": "stdout",
     "output_type": "stream",
     "text": [
      "3818\n"
     ]
    },
    {
     "data": {
      "text/html": [
       "<div>\n",
       "<style scoped>\n",
       "    .dataframe tbody tr th:only-of-type {\n",
       "        vertical-align: middle;\n",
       "    }\n",
       "\n",
       "    .dataframe tbody tr th {\n",
       "        vertical-align: top;\n",
       "    }\n",
       "\n",
       "    .dataframe thead th {\n",
       "        text-align: right;\n",
       "    }\n",
       "</style>\n",
       "<table border=\"1\" class=\"dataframe\">\n",
       "  <thead>\n",
       "    <tr style=\"text-align: right;\">\n",
       "      <th></th>\n",
       "      <th>listing_id</th>\n",
       "      <th>date</th>\n",
       "    </tr>\n",
       "  </thead>\n",
       "  <tbody>\n",
       "    <tr>\n",
       "      <th>0</th>\n",
       "      <td>3335</td>\n",
       "      <td>365</td>\n",
       "    </tr>\n",
       "    <tr>\n",
       "      <th>1</th>\n",
       "      <td>4291</td>\n",
       "      <td>365</td>\n",
       "    </tr>\n",
       "    <tr>\n",
       "      <th>2</th>\n",
       "      <td>5682</td>\n",
       "      <td>365</td>\n",
       "    </tr>\n",
       "    <tr>\n",
       "      <th>3</th>\n",
       "      <td>6606</td>\n",
       "      <td>365</td>\n",
       "    </tr>\n",
       "    <tr>\n",
       "      <th>4</th>\n",
       "      <td>7369</td>\n",
       "      <td>365</td>\n",
       "    </tr>\n",
       "  </tbody>\n",
       "</table>\n",
       "</div>"
      ],
      "text/plain": [
       "   listing_id  date\n",
       "0        3335   365\n",
       "1        4291   365\n",
       "2        5682   365\n",
       "3        6606   365\n",
       "4        7369   365"
      ]
     },
     "execution_count": 13,
     "metadata": {},
     "output_type": "execute_result"
    }
   ],
   "source": [
    "# Does each listing have data for every day in the dataset?\n",
    "check = calendar.groupby(['listing_id'])['date'].count().reset_index()\n",
    "print(len(check))\n",
    "check.head()"
   ]
  },
  {
   "cell_type": "code",
   "execution_count": 14,
   "metadata": {},
   "outputs": [
    {
     "name": "stdout",
     "output_type": "stream",
     "text": [
      "Incomplete data on 0 listings.\n"
     ]
    }
   ],
   "source": [
    "print('Incomplete data on {} listings.'.format(len(check[check['date'] != 365])))"
   ]
  },
  {
   "cell_type": "code",
   "execution_count": 15,
   "metadata": {
    "scrolled": true
   },
   "outputs": [
    {
     "data": {
      "text/html": [
       "<div>\n",
       "<style scoped>\n",
       "    .dataframe tbody tr th:only-of-type {\n",
       "        vertical-align: middle;\n",
       "    }\n",
       "\n",
       "    .dataframe tbody tr th {\n",
       "        vertical-align: top;\n",
       "    }\n",
       "\n",
       "    .dataframe thead th {\n",
       "        text-align: right;\n",
       "    }\n",
       "</style>\n",
       "<table border=\"1\" class=\"dataframe\">\n",
       "  <thead>\n",
       "    <tr style=\"text-align: right;\">\n",
       "      <th></th>\n",
       "      <th>id</th>\n",
       "      <th>listing_url</th>\n",
       "      <th>scrape_id</th>\n",
       "      <th>last_scraped</th>\n",
       "      <th>name</th>\n",
       "      <th>summary</th>\n",
       "      <th>space</th>\n",
       "      <th>description</th>\n",
       "      <th>experiences_offered</th>\n",
       "      <th>neighborhood_overview</th>\n",
       "      <th>...</th>\n",
       "      <th>review_scores_value</th>\n",
       "      <th>requires_license</th>\n",
       "      <th>license</th>\n",
       "      <th>jurisdiction_names</th>\n",
       "      <th>instant_bookable</th>\n",
       "      <th>cancellation_policy</th>\n",
       "      <th>require_guest_profile_picture</th>\n",
       "      <th>require_guest_phone_verification</th>\n",
       "      <th>calculated_host_listings_count</th>\n",
       "      <th>reviews_per_month</th>\n",
       "    </tr>\n",
       "  </thead>\n",
       "  <tbody>\n",
       "    <tr>\n",
       "      <th>0</th>\n",
       "      <td>241032</td>\n",
       "      <td>https://www.airbnb.com/rooms/241032</td>\n",
       "      <td>20160104002432</td>\n",
       "      <td>2016-01-04</td>\n",
       "      <td>Stylish Queen Anne Apartment</td>\n",
       "      <td>NaN</td>\n",
       "      <td>Make your self at home in this charming one-be...</td>\n",
       "      <td>Make your self at home in this charming one-be...</td>\n",
       "      <td>none</td>\n",
       "      <td>NaN</td>\n",
       "      <td>...</td>\n",
       "      <td>10.0</td>\n",
       "      <td>f</td>\n",
       "      <td>NaN</td>\n",
       "      <td>WASHINGTON</td>\n",
       "      <td>f</td>\n",
       "      <td>moderate</td>\n",
       "      <td>f</td>\n",
       "      <td>f</td>\n",
       "      <td>2</td>\n",
       "      <td>4.07</td>\n",
       "    </tr>\n",
       "    <tr>\n",
       "      <th>1</th>\n",
       "      <td>953595</td>\n",
       "      <td>https://www.airbnb.com/rooms/953595</td>\n",
       "      <td>20160104002432</td>\n",
       "      <td>2016-01-04</td>\n",
       "      <td>Bright &amp; Airy Queen Anne Apartment</td>\n",
       "      <td>Chemically sensitive? We've removed the irrita...</td>\n",
       "      <td>Beautiful, hypoallergenic apartment in an extr...</td>\n",
       "      <td>Chemically sensitive? We've removed the irrita...</td>\n",
       "      <td>none</td>\n",
       "      <td>Queen Anne is a wonderful, truly functional vi...</td>\n",
       "      <td>...</td>\n",
       "      <td>10.0</td>\n",
       "      <td>f</td>\n",
       "      <td>NaN</td>\n",
       "      <td>WASHINGTON</td>\n",
       "      <td>f</td>\n",
       "      <td>strict</td>\n",
       "      <td>t</td>\n",
       "      <td>t</td>\n",
       "      <td>6</td>\n",
       "      <td>1.48</td>\n",
       "    </tr>\n",
       "    <tr>\n",
       "      <th>2</th>\n",
       "      <td>3308979</td>\n",
       "      <td>https://www.airbnb.com/rooms/3308979</td>\n",
       "      <td>20160104002432</td>\n",
       "      <td>2016-01-04</td>\n",
       "      <td>New Modern House-Amazing water view</td>\n",
       "      <td>New modern house built in 2013.  Spectacular s...</td>\n",
       "      <td>Our house is modern, light and fresh with a wa...</td>\n",
       "      <td>New modern house built in 2013.  Spectacular s...</td>\n",
       "      <td>none</td>\n",
       "      <td>Upper Queen Anne is a charming neighborhood fu...</td>\n",
       "      <td>...</td>\n",
       "      <td>10.0</td>\n",
       "      <td>f</td>\n",
       "      <td>NaN</td>\n",
       "      <td>WASHINGTON</td>\n",
       "      <td>f</td>\n",
       "      <td>strict</td>\n",
       "      <td>f</td>\n",
       "      <td>f</td>\n",
       "      <td>2</td>\n",
       "      <td>1.15</td>\n",
       "    </tr>\n",
       "    <tr>\n",
       "      <th>3</th>\n",
       "      <td>7421966</td>\n",
       "      <td>https://www.airbnb.com/rooms/7421966</td>\n",
       "      <td>20160104002432</td>\n",
       "      <td>2016-01-04</td>\n",
       "      <td>Queen Anne Chateau</td>\n",
       "      <td>A charming apartment that sits atop Queen Anne...</td>\n",
       "      <td>NaN</td>\n",
       "      <td>A charming apartment that sits atop Queen Anne...</td>\n",
       "      <td>none</td>\n",
       "      <td>NaN</td>\n",
       "      <td>...</td>\n",
       "      <td>NaN</td>\n",
       "      <td>f</td>\n",
       "      <td>NaN</td>\n",
       "      <td>WASHINGTON</td>\n",
       "      <td>f</td>\n",
       "      <td>flexible</td>\n",
       "      <td>f</td>\n",
       "      <td>f</td>\n",
       "      <td>1</td>\n",
       "      <td>NaN</td>\n",
       "    </tr>\n",
       "    <tr>\n",
       "      <th>4</th>\n",
       "      <td>278830</td>\n",
       "      <td>https://www.airbnb.com/rooms/278830</td>\n",
       "      <td>20160104002432</td>\n",
       "      <td>2016-01-04</td>\n",
       "      <td>Charming craftsman 3 bdm house</td>\n",
       "      <td>Cozy family craftman house in beautiful neighb...</td>\n",
       "      <td>Cozy family craftman house in beautiful neighb...</td>\n",
       "      <td>Cozy family craftman house in beautiful neighb...</td>\n",
       "      <td>none</td>\n",
       "      <td>We are in the beautiful neighborhood of Queen ...</td>\n",
       "      <td>...</td>\n",
       "      <td>9.0</td>\n",
       "      <td>f</td>\n",
       "      <td>NaN</td>\n",
       "      <td>WASHINGTON</td>\n",
       "      <td>f</td>\n",
       "      <td>strict</td>\n",
       "      <td>f</td>\n",
       "      <td>f</td>\n",
       "      <td>1</td>\n",
       "      <td>0.89</td>\n",
       "    </tr>\n",
       "  </tbody>\n",
       "</table>\n",
       "<p>5 rows × 92 columns</p>\n",
       "</div>"
      ],
      "text/plain": [
       "        id                           listing_url       scrape_id last_scraped  \\\n",
       "0   241032   https://www.airbnb.com/rooms/241032  20160104002432   2016-01-04   \n",
       "1   953595   https://www.airbnb.com/rooms/953595  20160104002432   2016-01-04   \n",
       "2  3308979  https://www.airbnb.com/rooms/3308979  20160104002432   2016-01-04   \n",
       "3  7421966  https://www.airbnb.com/rooms/7421966  20160104002432   2016-01-04   \n",
       "4   278830   https://www.airbnb.com/rooms/278830  20160104002432   2016-01-04   \n",
       "\n",
       "                                  name  \\\n",
       "0         Stylish Queen Anne Apartment   \n",
       "1   Bright & Airy Queen Anne Apartment   \n",
       "2  New Modern House-Amazing water view   \n",
       "3                   Queen Anne Chateau   \n",
       "4       Charming craftsman 3 bdm house   \n",
       "\n",
       "                                             summary  \\\n",
       "0                                                NaN   \n",
       "1  Chemically sensitive? We've removed the irrita...   \n",
       "2  New modern house built in 2013.  Spectacular s...   \n",
       "3  A charming apartment that sits atop Queen Anne...   \n",
       "4  Cozy family craftman house in beautiful neighb...   \n",
       "\n",
       "                                               space  \\\n",
       "0  Make your self at home in this charming one-be...   \n",
       "1  Beautiful, hypoallergenic apartment in an extr...   \n",
       "2  Our house is modern, light and fresh with a wa...   \n",
       "3                                                NaN   \n",
       "4  Cozy family craftman house in beautiful neighb...   \n",
       "\n",
       "                                         description experiences_offered  \\\n",
       "0  Make your self at home in this charming one-be...                none   \n",
       "1  Chemically sensitive? We've removed the irrita...                none   \n",
       "2  New modern house built in 2013.  Spectacular s...                none   \n",
       "3  A charming apartment that sits atop Queen Anne...                none   \n",
       "4  Cozy family craftman house in beautiful neighb...                none   \n",
       "\n",
       "                               neighborhood_overview        ...         \\\n",
       "0                                                NaN        ...          \n",
       "1  Queen Anne is a wonderful, truly functional vi...        ...          \n",
       "2  Upper Queen Anne is a charming neighborhood fu...        ...          \n",
       "3                                                NaN        ...          \n",
       "4  We are in the beautiful neighborhood of Queen ...        ...          \n",
       "\n",
       "  review_scores_value requires_license license jurisdiction_names  \\\n",
       "0                10.0                f     NaN         WASHINGTON   \n",
       "1                10.0                f     NaN         WASHINGTON   \n",
       "2                10.0                f     NaN         WASHINGTON   \n",
       "3                 NaN                f     NaN         WASHINGTON   \n",
       "4                 9.0                f     NaN         WASHINGTON   \n",
       "\n",
       "  instant_bookable cancellation_policy  require_guest_profile_picture  \\\n",
       "0                f            moderate                              f   \n",
       "1                f              strict                              t   \n",
       "2                f              strict                              f   \n",
       "3                f            flexible                              f   \n",
       "4                f              strict                              f   \n",
       "\n",
       "  require_guest_phone_verification calculated_host_listings_count  \\\n",
       "0                                f                              2   \n",
       "1                                t                              6   \n",
       "2                                f                              2   \n",
       "3                                f                              1   \n",
       "4                                f                              1   \n",
       "\n",
       "  reviews_per_month  \n",
       "0              4.07  \n",
       "1              1.48  \n",
       "2              1.15  \n",
       "3               NaN  \n",
       "4              0.89  \n",
       "\n",
       "[5 rows x 92 columns]"
      ]
     },
     "execution_count": 15,
     "metadata": {},
     "output_type": "execute_result"
    }
   ],
   "source": [
    "# Look at listings data\n",
    "listings.head()"
   ]
  },
  {
   "cell_type": "code",
   "execution_count": 16,
   "metadata": {},
   "outputs": [
    {
     "name": "stdout",
     "output_type": "stream",
     "text": [
      "(3818, 92)\n"
     ]
    },
    {
     "data": {
      "text/plain": [
       "True"
      ]
     },
     "execution_count": 16,
     "metadata": {},
     "output_type": "execute_result"
    }
   ],
   "source": [
    "# Does length of listings match length of unique listings from calendar dataframe?\n",
    "print(listings.shape)\n",
    "len(listings) == len(check)"
   ]
  },
  {
   "cell_type": "code",
   "execution_count": 17,
   "metadata": {},
   "outputs": [
    {
     "name": "stdout",
     "output_type": "stream",
     "text": [
      "45 columns have missing values.\n",
      "8 columns have more that 25% of the data missing.\n",
      "4 columns have more that 50% of the data missing.\n",
      "2 columns have more that 75% of the data missing.\n",
      "1 columns have no data.\n"
     ]
    }
   ],
   "source": [
    "# Looking at null values\n",
    "print('{} columns have missing values.'.format(listings[listings.columns[listings.isnull().any()]].shape[1]))\n",
    "print('{} columns have more that 25% of the data missing.'.format(listings[listings.columns[listings.isnull().mean() > .25]].shape[1]))\n",
    "print('{} columns have more that 50% of the data missing.'.format(listings[listings.columns[listings.isnull().mean() > .50]].shape[1]))\n",
    "print('{} columns have more that 75% of the data missing.'.format(listings[listings.columns[listings.isnull().mean() > .75]].shape[1]))\n",
    "print('{} columns have no data.'.format(listings[listings.columns[listings.isnull().mean() == 1]].shape[1]))"
   ]
  },
  {
   "cell_type": "markdown",
   "metadata": {},
   "source": [
    "### Data Preparation"
   ]
  },
  {
   "cell_type": "code",
   "execution_count": 18,
   "metadata": {},
   "outputs": [],
   "source": [
    "# For the sake of time, I'm going to select the columns that pass the eye test for being potentially relevant.\n",
    "listings = listings[['id', 'host_id', 'summary', 'space', 'description', 'experiences_offered',\n",
    "       'neighborhood_overview', 'notes', 'transit', 'host_since', 'host_location',\n",
    "       'host_about', 'host_response_time', 'host_response_rate',\n",
    "       'host_acceptance_rate', 'host_is_superhost', 'host_listings_count',\n",
    "       'host_has_profile_pic', 'host_identity_verified', 'street',\n",
    "       'neighbourhood', 'neighbourhood_cleansed',\n",
    "       'neighbourhood_group_cleansed', 'city', 'state', 'zipcode',\n",
    "       'market', 'smart_location', 'is_location_exact', 'property_type', 'room_type',\n",
    "       'accommodates', 'bathrooms', 'bedrooms', 'beds', 'bed_type',\n",
    "       'amenities', 'square_feet', 'price', 'weekly_price',\n",
    "       'monthly_price', 'security_deposit', 'cleaning_fee',\n",
    "       'guests_included', 'extra_people', 'minimum_nights',\n",
    "       'maximum_nights', 'calendar_updated', 'has_availability',\n",
    "       'availability_30', 'availability_60', 'availability_90',\n",
    "       'availability_365', 'calendar_last_scraped', 'number_of_reviews',\n",
    "       'first_review', 'last_review', 'review_scores_rating',\n",
    "       'review_scores_accuracy', 'review_scores_cleanliness',\n",
    "       'review_scores_checkin', 'review_scores_communication',\n",
    "       'review_scores_location', 'review_scores_value',\n",
    "       'requires_license', 'license', 'jurisdiction_names',\n",
    "       'instant_bookable', 'cancellation_policy',\n",
    "       'require_guest_profile_picture',\n",
    "       'require_guest_phone_verification',\n",
    "       'calculated_host_listings_count', 'reviews_per_month']]"
   ]
  },
  {
   "cell_type": "code",
   "execution_count": 19,
   "metadata": {},
   "outputs": [
    {
     "data": {
      "text/plain": [
       "count      97.000000\n",
       "mean      854.618557\n",
       "std       671.404893\n",
       "min         0.000000\n",
       "25%       420.000000\n",
       "50%       750.000000\n",
       "75%      1200.000000\n",
       "max      3000.000000\n",
       "Name: square_feet, dtype: float64"
      ]
     },
     "execution_count": 19,
     "metadata": {},
     "output_type": "execute_result"
    }
   ],
   "source": [
    "# Square Feet\n",
    "listings.square_feet.describe()"
   ]
  },
  {
   "cell_type": "code",
   "execution_count": 20,
   "metadata": {},
   "outputs": [
    {
     "data": {
      "text/plain": [
       "0.9745940282870613"
      ]
     },
     "execution_count": 20,
     "metadata": {},
     "output_type": "execute_result"
    }
   ],
   "source": [
    "listings.square_feet.isnull().mean()"
   ]
  },
  {
   "cell_type": "code",
   "execution_count": 21,
   "metadata": {},
   "outputs": [],
   "source": [
    "# Too many nulls to be useful. I'll create an isnull column to see if that might be useful\n",
    "listings['listings_sf_null'] = listings.square_feet.notnull().astype('int')"
   ]
  },
  {
   "cell_type": "code",
   "execution_count": 22,
   "metadata": {},
   "outputs": [
    {
     "data": {
      "text/plain": [
       "1.0"
      ]
     },
     "execution_count": 22,
     "metadata": {},
     "output_type": "execute_result"
    }
   ],
   "source": [
    "listings['listings_sf_null'].mean() + listings.square_feet.isnull().mean() # looks good. Drop old column"
   ]
  },
  {
   "cell_type": "code",
   "execution_count": 23,
   "metadata": {},
   "outputs": [],
   "source": [
    "listings = listings.drop(columns = ['square_feet'])"
   ]
  },
  {
   "cell_type": "code",
   "execution_count": 24,
   "metadata": {},
   "outputs": [
    {
     "data": {
      "text/plain": [
       "0.0"
      ]
     },
     "execution_count": 24,
     "metadata": {},
     "output_type": "execute_result"
    }
   ],
   "source": [
    "# City\n",
    "listings.city.isnull().mean()"
   ]
  },
  {
   "cell_type": "code",
   "execution_count": 25,
   "metadata": {},
   "outputs": [
    {
     "data": {
      "text/plain": [
       "array(['Seattle', 'Ballard, Seattle', 'West Seattle', 'Seattle ', '西雅图',\n",
       "       'Phinney Ridge Seattle', 'seattle'], dtype=object)"
      ]
     },
     "execution_count": 25,
     "metadata": {},
     "output_type": "execute_result"
    }
   ],
   "source": [
    "listings.city.unique()"
   ]
  },
  {
   "cell_type": "code",
   "execution_count": 26,
   "metadata": {},
   "outputs": [
    {
     "data": {
      "text/plain": [
       "Seattle                  3810\n",
       "Seattle                     2\n",
       "West Seattle                2\n",
       "西雅图                         1\n",
       "seattle                     1\n",
       "Phinney Ridge Seattle       1\n",
       "Ballard, Seattle            1\n",
       "Name: city, dtype: int64"
      ]
     },
     "execution_count": 26,
     "metadata": {},
     "output_type": "execute_result"
    }
   ],
   "source": [
    "listings.city.value_counts()"
   ]
  },
  {
   "cell_type": "code",
   "execution_count": 27,
   "metadata": {},
   "outputs": [],
   "source": [
    "# I don't think this column helps much either. I'll drop it\n",
    "listings = listings.drop(columns = ['city'])"
   ]
  },
  {
   "cell_type": "code",
   "execution_count": 28,
   "metadata": {},
   "outputs": [
    {
     "data": {
      "text/plain": [
       "array(['WA', 'wa'], dtype=object)"
      ]
     },
     "execution_count": 28,
     "metadata": {},
     "output_type": "execute_result"
    }
   ],
   "source": [
    "listings.state.unique()"
   ]
  },
  {
   "cell_type": "code",
   "execution_count": 29,
   "metadata": {},
   "outputs": [],
   "source": [
    "listings = listings.drop(columns = ['state']) # drop state column too"
   ]
  },
  {
   "cell_type": "code",
   "execution_count": 30,
   "metadata": {},
   "outputs": [],
   "source": [
    "# Listing descriptions"
   ]
  },
  {
   "cell_type": "code",
   "execution_count": 31,
   "metadata": {},
   "outputs": [
    {
     "data": {
      "text/plain": [
       "0    Make your self at home in this charming one-be...\n",
       "1    Beautiful, hypoallergenic apartment in an extr...\n",
       "2    Our house is modern, light and fresh with a wa...\n",
       "3                                                  NaN\n",
       "4    Cozy family craftman house in beautiful neighb...\n",
       "5    If you include a bit of your background in you...\n",
       "6    Enjoy a quiet stay in our comfortable 1915 Cra...\n",
       "7     This cabin was built with Airbnb in mind, Que...\n",
       "8    Located in the heart of the city, this space i...\n",
       "9    What's special about this place? A beautiful r...\n",
       "Name: space, dtype: object"
      ]
     },
     "execution_count": 31,
     "metadata": {},
     "output_type": "execute_result"
    }
   ],
   "source": [
    "listings.space.head(10)"
   ]
  },
  {
   "cell_type": "code",
   "execution_count": 32,
   "metadata": {},
   "outputs": [
    {
     "data": {
      "text/plain": [
       "0                                                  NaN\n",
       "1    Chemically sensitive? We've removed the irrita...\n",
       "2    New modern house built in 2013.  Spectacular s...\n",
       "3    A charming apartment that sits atop Queen Anne...\n",
       "4    Cozy family craftman house in beautiful neighb...\n",
       "5    We're renting out a small private unit of one ...\n",
       "6    Enjoy a quiet stay in our comfortable 1915 Cra...\n",
       "7    Our tiny cabin is private , very quiet and com...\n",
       "8    Nestled in the heart of the city, this space i...\n",
       "9    Beautiful apartment in an extremely safe, quie...\n",
       "Name: summary, dtype: object"
      ]
     },
     "execution_count": 32,
     "metadata": {},
     "output_type": "execute_result"
    }
   ],
   "source": [
    "listings.summary.head(10)"
   ]
  },
  {
   "cell_type": "code",
   "execution_count": 33,
   "metadata": {},
   "outputs": [
    {
     "data": {
      "text/plain": [
       "0    Make your self at home in this charming one-be...\n",
       "1    Chemically sensitive? We've removed the irrita...\n",
       "2    New modern house built in 2013.  Spectacular s...\n",
       "3    A charming apartment that sits atop Queen Anne...\n",
       "4    Cozy family craftman house in beautiful neighb...\n",
       "5    We're renting out a small private unit of one ...\n",
       "6    Enjoy a quiet stay in our comfortable 1915 Cra...\n",
       "7    Our tiny cabin is private , very quiet and com...\n",
       "8    Nestled in the heart of the city, this space i...\n",
       "9    Beautiful apartment in an extremely safe, quie...\n",
       "Name: description, dtype: object"
      ]
     },
     "execution_count": 33,
     "metadata": {},
     "output_type": "execute_result"
    }
   ],
   "source": [
    "listings.description.head(10)"
   ]
  },
  {
   "cell_type": "code",
   "execution_count": 34,
   "metadata": {},
   "outputs": [
    {
     "data": {
      "text/plain": [
       "space          0.149031\n",
       "summary        0.046359\n",
       "description    0.000000\n",
       "dtype: float64"
      ]
     },
     "execution_count": 34,
     "metadata": {},
     "output_type": "execute_result"
    }
   ],
   "source": [
    "# looks like the description column might be most complete, and contains duplicates of the other columns.\n",
    "listings[['space', 'summary', 'description']].isnull().mean()"
   ]
  },
  {
   "cell_type": "code",
   "execution_count": 35,
   "metadata": {},
   "outputs": [],
   "source": [
    "# I'll only keep the description column and maybe try to extract something useful from it\n",
    "listings = listings.drop(columns = ['space', 'summary'])"
   ]
  },
  {
   "cell_type": "code",
   "execution_count": 36,
   "metadata": {},
   "outputs": [
    {
     "data": {
      "text/plain": [
       "array(['none'], dtype=object)"
      ]
     },
     "execution_count": 36,
     "metadata": {},
     "output_type": "execute_result"
    }
   ],
   "source": [
    "# Experiences offered\n",
    "listings['experiences_offered'].unique()"
   ]
  },
  {
   "cell_type": "code",
   "execution_count": 37,
   "metadata": {},
   "outputs": [],
   "source": [
    "# Drop experiences offered\n",
    "listings = listings.drop(columns = ['experiences_offered'])"
   ]
  },
  {
   "cell_type": "code",
   "execution_count": 38,
   "metadata": {},
   "outputs": [
    {
     "data": {
      "text/plain": [
       "0                                                  NaN\n",
       "1    Queen Anne is a wonderful, truly functional vi...\n",
       "2    Upper Queen Anne is a charming neighborhood fu...\n",
       "3                                                  NaN\n",
       "4    We are in the beautiful neighborhood of Queen ...\n",
       "Name: neighborhood_overview, dtype: object"
      ]
     },
     "execution_count": 38,
     "metadata": {},
     "output_type": "execute_result"
    }
   ],
   "source": [
    "listings['neighborhood_overview'].head()"
   ]
  },
  {
   "cell_type": "code",
   "execution_count": 39,
   "metadata": {},
   "outputs": [
    {
     "data": {
      "text/plain": [
       "0.27029858564693554"
      ]
     },
     "execution_count": 39,
     "metadata": {},
     "output_type": "execute_result"
    }
   ],
   "source": [
    "listings['neighborhood_overview'].isnull().mean()"
   ]
  },
  {
   "cell_type": "code",
   "execution_count": 40,
   "metadata": {},
   "outputs": [
    {
     "name": "stdout",
     "output_type": "stream",
     "text": [
      "0.42063907805133577\n"
     ]
    },
    {
     "data": {
      "text/plain": [
       "0                                                  NaN\n",
       "1    What's up with the free pillows?  Our home was...\n",
       "2    Our house is located just 5 short blocks to To...\n",
       "3                                                  NaN\n",
       "4                                            Belltown \n",
       "Name: notes, dtype: object"
      ]
     },
     "execution_count": 40,
     "metadata": {},
     "output_type": "execute_result"
    }
   ],
   "source": [
    "# Notes\n",
    "print(listings.notes.isnull().mean())\n",
    "listings['notes'].head()"
   ]
  },
  {
   "cell_type": "code",
   "execution_count": 41,
   "metadata": {},
   "outputs": [],
   "source": [
    "# Create Binary \"Is Notes\" column to see if listing has notes attached to it.\n",
    "def notes(row):\n",
    "    if pd.isnull(row['notes']):\n",
    "        return 0\n",
    "    else:\n",
    "        return 1\n",
    "    \n",
    "listings['notes'] = listings.apply(notes, axis = 1)"
   ]
  },
  {
   "cell_type": "code",
   "execution_count": 42,
   "metadata": {},
   "outputs": [
    {
     "name": "stdout",
     "output_type": "stream",
     "text": [
      "0.24463069669984286\n"
     ]
    },
    {
     "data": {
      "text/plain": [
       "0                                                  NaN\n",
       "1    Convenient bus stops are just down the block, ...\n",
       "2    A bus stop is just 2 blocks away.   Easy bus a...\n",
       "3                                                  NaN\n",
       "4    The nearest public transit bus (D Line) is 2 b...\n",
       "Name: transit, dtype: object"
      ]
     },
     "execution_count": 42,
     "metadata": {},
     "output_type": "execute_result"
    }
   ],
   "source": [
    "# transit\n",
    "print(listings.transit.isnull().mean())\n",
    "listings['transit'].head()"
   ]
  },
  {
   "cell_type": "code",
   "execution_count": 43,
   "metadata": {},
   "outputs": [],
   "source": [
    "# Create Binary \"Is Transit\" column\n",
    "def transit(row):\n",
    "    if pd.isnull(row['transit']):\n",
    "        return 0\n",
    "    else:\n",
    "        return 1\n",
    "    \n",
    "listings['transit'] = listings.apply(transit, axis = 1)"
   ]
  },
  {
   "cell_type": "code",
   "execution_count": 44,
   "metadata": {},
   "outputs": [
    {
     "name": "stdout",
     "output_type": "stream",
     "text": [
      "0.0005238344683080147\n"
     ]
    },
    {
     "data": {
      "text/plain": [
       "0    2011-08-11\n",
       "1    2013-02-21\n",
       "2    2014-06-12\n",
       "3    2013-11-06\n",
       "4    2011-11-29\n",
       "Name: host_since, dtype: object"
      ]
     },
     "execution_count": 44,
     "metadata": {},
     "output_type": "execute_result"
    }
   ],
   "source": [
    "# Host Since\n",
    "print(listings['host_since'].isnull().mean())\n",
    "listings['host_since'].head()"
   ]
  },
  {
   "cell_type": "code",
   "execution_count": 45,
   "metadata": {},
   "outputs": [],
   "source": [
    "# Create time as host column\n",
    "import datetime as dt\n",
    "listings['host_since'] = pd.to_datetime(listings['host_since'])\n",
    "listings['host_tenure'] = listings['host_since'].apply(lambda x: (dt.datetime.today() - x).days)\n",
    "# Fill NAs with mean\n",
    "listings['host_tenure'] = listings['host_tenure'].fillna(listings['host_tenure'].mean())\n",
    "# Drop Old Column\n",
    "listings = listings.drop(columns = ['host_since'])"
   ]
  },
  {
   "cell_type": "code",
   "execution_count": 46,
   "metadata": {},
   "outputs": [
    {
     "data": {
      "text/plain": [
       "0    Seattle, Washington, United States\n",
       "1    Seattle, Washington, United States\n",
       "2    Seattle, Washington, United States\n",
       "3    Seattle, Washington, United States\n",
       "4    Seattle, Washington, United States\n",
       "Name: host_location, dtype: object"
      ]
     },
     "execution_count": 46,
     "metadata": {},
     "output_type": "execute_result"
    }
   ],
   "source": [
    "# Host location\n",
    "listings['host_location'].head()"
   ]
  },
  {
   "cell_type": "code",
   "execution_count": 47,
   "metadata": {},
   "outputs": [
    {
     "data": {
      "text/plain": [
       "array(['Seattle, Washington, United States',\n",
       "       'Kirkland, Washington, United States',\n",
       "       'Quilcene, Washington, United States', 'US', nan,\n",
       "       'Lowell, Massachusetts, United States',\n",
       "       'Sammamish, Washington, United States',\n",
       "       'Los Angeles, California, United States',\n",
       "       'Shoreline, Washington, United States',\n",
       "       'Portland, Oregon, United States'], dtype=object)"
      ]
     },
     "execution_count": 47,
     "metadata": {},
     "output_type": "execute_result"
    }
   ],
   "source": [
    "listings['host_location'].unique()[0:10]"
   ]
  },
  {
   "cell_type": "code",
   "execution_count": 48,
   "metadata": {},
   "outputs": [],
   "source": [
    "# I'll create a binary \"In Seattle\" column\n",
    "listings['Host_Seattle'] = listings['host_location'].apply(lambda x: 1 if 'Seattle' in str(x) else 0)\n",
    "# Drop old column\n",
    "listings = listings.drop(columns = ['host_location'])"
   ]
  },
  {
   "cell_type": "code",
   "execution_count": 49,
   "metadata": {},
   "outputs": [
    {
     "data": {
      "text/plain": [
       "0    I am an artist, interior designer, and run a s...\n",
       "1    Living east coast/left coast/overseas.  Time i...\n",
       "2    i love living in Seattle.  i grew up in the mi...\n",
       "3                                                  NaN\n",
       "4    Hi, I live in Seattle, Washington but I'm orig...\n",
       "Name: host_about, dtype: object"
      ]
     },
     "execution_count": 49,
     "metadata": {},
     "output_type": "execute_result"
    }
   ],
   "source": [
    "listings['host_about'].head()"
   ]
  },
  {
   "cell_type": "code",
   "execution_count": 50,
   "metadata": {},
   "outputs": [],
   "source": [
    "# Create \"Has About\" column\n",
    "listings['host_has_about'] = listings['host_about'].apply(lambda x: 0 if pd.isnull(x) else 1)\n",
    "# Drop old column\n",
    "listings = listings.drop(columns = ['host_about'])"
   ]
  },
  {
   "cell_type": "code",
   "execution_count": 51,
   "metadata": {},
   "outputs": [
    {
     "data": {
      "text/plain": [
       "0    within a few hours\n",
       "1        within an hour\n",
       "2    within a few hours\n",
       "3                   NaN\n",
       "4        within an hour\n",
       "Name: host_response_time, dtype: object"
      ]
     },
     "execution_count": 51,
     "metadata": {},
     "output_type": "execute_result"
    }
   ],
   "source": [
    "# Host Response Time\n",
    "listings.host_response_time.head()"
   ]
  },
  {
   "cell_type": "code",
   "execution_count": 52,
   "metadata": {},
   "outputs": [
    {
     "data": {
      "text/plain": [
       "array(['within a few hours', 'within an hour', nan, 'within a day',\n",
       "       'a few days or more'], dtype=object)"
      ]
     },
     "execution_count": 52,
     "metadata": {},
     "output_type": "execute_result"
    }
   ],
   "source": [
    "listings.host_response_time.unique()\n",
    "# We'll create dummies later for this column"
   ]
  },
  {
   "cell_type": "code",
   "execution_count": 53,
   "metadata": {},
   "outputs": [
    {
     "data": {
      "text/plain": [
       "0    100%\n",
       "1    100%\n",
       "2    100%\n",
       "3     NaN\n",
       "4     NaN\n",
       "5     NaN\n",
       "6    100%\n",
       "7    100%\n",
       "8    100%\n",
       "9    100%\n",
       "Name: host_acceptance_rate, dtype: object"
      ]
     },
     "execution_count": 53,
     "metadata": {},
     "output_type": "execute_result"
    }
   ],
   "source": [
    "listings['host_acceptance_rate'].head(10)"
   ]
  },
  {
   "cell_type": "code",
   "execution_count": 54,
   "metadata": {},
   "outputs": [
    {
     "data": {
      "text/plain": [
       "0.20246202200104768"
      ]
     },
     "execution_count": 54,
     "metadata": {},
     "output_type": "execute_result"
    }
   ],
   "source": [
    "listings['host_acceptance_rate'].isnull().mean()"
   ]
  },
  {
   "cell_type": "code",
   "execution_count": 55,
   "metadata": {},
   "outputs": [
    {
     "data": {
      "text/plain": [
       "100%    3044\n",
       "0%         1\n",
       "Name: host_acceptance_rate, dtype: int64"
      ]
     },
     "execution_count": 55,
     "metadata": {},
     "output_type": "execute_result"
    }
   ],
   "source": [
    "listings['host_acceptance_rate'].value_counts()"
   ]
  },
  {
   "cell_type": "code",
   "execution_count": 56,
   "metadata": {},
   "outputs": [],
   "source": [
    "# Will Create Is 100 or not\n",
    "listings['Acceptance_100'] = listings['host_acceptance_rate'].apply(lambda x: 1 if x == '100%' else 0)\n",
    "# Drop old column\n",
    "listings = listings.drop(columns = ['host_acceptance_rate'])"
   ]
  },
  {
   "cell_type": "code",
   "execution_count": 57,
   "metadata": {},
   "outputs": [
    {
     "data": {
      "text/plain": [
       "0    f\n",
       "1    t\n",
       "2    f\n",
       "3    f\n",
       "4    f\n",
       "5    f\n",
       "6    t\n",
       "7    t\n",
       "8    f\n",
       "9    t\n",
       "Name: host_is_superhost, dtype: object"
      ]
     },
     "execution_count": 57,
     "metadata": {},
     "output_type": "execute_result"
    }
   ],
   "source": [
    "# Super host\n",
    "listings['host_is_superhost'].head(10)"
   ]
  },
  {
   "cell_type": "code",
   "execution_count": 58,
   "metadata": {},
   "outputs": [
    {
     "data": {
      "text/plain": [
       "array(['f', 't', nan], dtype=object)"
      ]
     },
     "execution_count": 58,
     "metadata": {},
     "output_type": "execute_result"
    }
   ],
   "source": [
    "listings['host_is_superhost'].unique()"
   ]
  },
  {
   "cell_type": "code",
   "execution_count": 59,
   "metadata": {},
   "outputs": [],
   "source": [
    "# replace nulls with false - i assume null means they are not a superhost\n",
    "listings['host_is_superhost'] = listings['host_is_superhost'].fillna('f')"
   ]
  },
  {
   "cell_type": "code",
   "execution_count": 60,
   "metadata": {},
   "outputs": [
    {
     "data": {
      "text/plain": [
       "0    3.0\n",
       "1    6.0\n",
       "2    2.0\n",
       "3    1.0\n",
       "4    2.0\n",
       "Name: host_listings_count, dtype: float64"
      ]
     },
     "execution_count": 60,
     "metadata": {},
     "output_type": "execute_result"
    }
   ],
   "source": [
    "# Host listings count\n",
    "listings['host_listings_count'].head()"
   ]
  },
  {
   "cell_type": "code",
   "execution_count": 61,
   "metadata": {},
   "outputs": [
    {
     "data": {
      "text/plain": [
       "0.0005238344683080147"
      ]
     },
     "execution_count": 61,
     "metadata": {},
     "output_type": "execute_result"
    }
   ],
   "source": [
    "listings['host_listings_count'].isnull().mean()"
   ]
  },
  {
   "cell_type": "code",
   "execution_count": 62,
   "metadata": {},
   "outputs": [
    {
     "data": {
      "text/plain": [
       "count    3816.000000\n",
       "mean        7.157757\n",
       "std        28.628149\n",
       "min         1.000000\n",
       "25%         1.000000\n",
       "50%         1.000000\n",
       "75%         3.000000\n",
       "max       502.000000\n",
       "Name: host_listings_count, dtype: float64"
      ]
     },
     "execution_count": 62,
     "metadata": {},
     "output_type": "execute_result"
    }
   ],
   "source": [
    "listings['host_listings_count'].describe()"
   ]
  },
  {
   "cell_type": "code",
   "execution_count": 63,
   "metadata": {},
   "outputs": [],
   "source": [
    "# Replace nulls with median of 1\n",
    "listings['host_listings_count'] = listings['host_listings_count'].fillna(1)"
   ]
  },
  {
   "cell_type": "code",
   "execution_count": 64,
   "metadata": {},
   "outputs": [],
   "source": [
    "# Bin to help with outliers\n",
    "def list_bins(row):\n",
    "    if row['host_listings_count'] == 1:\n",
    "        return '1 Listing'\n",
    "    elif row['host_listings_count'] < 6:\n",
    "        return '2-5 Listings'\n",
    "    elif row['host_listings_count'] < 16:\n",
    "        return '6-15 Listings'\n",
    "    else:\n",
    "        return 'Greater than 15 listings'\n",
    "    \n",
    "    \n",
    "listings['host_listings_count'] = listings.apply(list_bins, axis = 1)"
   ]
  },
  {
   "cell_type": "code",
   "execution_count": 65,
   "metadata": {},
   "outputs": [
    {
     "data": {
      "text/plain": [
       "1 Listing                   2181\n",
       "2-5 Listings                1130\n",
       "Greater than 15 listings     303\n",
       "6-15 Listings                204\n",
       "Name: host_listings_count, dtype: int64"
      ]
     },
     "execution_count": 65,
     "metadata": {},
     "output_type": "execute_result"
    }
   ],
   "source": [
    "listings['host_listings_count'].value_counts()"
   ]
  },
  {
   "cell_type": "code",
   "execution_count": 66,
   "metadata": {},
   "outputs": [
    {
     "data": {
      "text/plain": [
       "0    t\n",
       "1    t\n",
       "2    t\n",
       "3    t\n",
       "4    t\n",
       "Name: host_has_profile_pic, dtype: object"
      ]
     },
     "execution_count": 66,
     "metadata": {},
     "output_type": "execute_result"
    }
   ],
   "source": [
    "# Host Has Profile Pic\n",
    "listings['host_has_profile_pic'].head()"
   ]
  },
  {
   "cell_type": "code",
   "execution_count": 67,
   "metadata": {},
   "outputs": [
    {
     "data": {
      "text/plain": [
       "0.0005238344683080147"
      ]
     },
     "execution_count": 67,
     "metadata": {},
     "output_type": "execute_result"
    }
   ],
   "source": [
    "listings['host_has_profile_pic'].isnull().mean()"
   ]
  },
  {
   "cell_type": "code",
   "execution_count": 68,
   "metadata": {},
   "outputs": [
    {
     "data": {
      "text/plain": [
       "t    3809\n",
       "f       7\n",
       "Name: host_has_profile_pic, dtype: int64"
      ]
     },
     "execution_count": 68,
     "metadata": {},
     "output_type": "execute_result"
    }
   ],
   "source": [
    "listings['host_has_profile_pic'].value_counts()"
   ]
  },
  {
   "cell_type": "code",
   "execution_count": 69,
   "metadata": {},
   "outputs": [],
   "source": [
    "# Will dummy these, preserving null data"
   ]
  },
  {
   "cell_type": "code",
   "execution_count": 70,
   "metadata": {},
   "outputs": [
    {
     "data": {
      "text/plain": [
       "t    2997\n",
       "f     819\n",
       "Name: host_identity_verified, dtype: int64"
      ]
     },
     "execution_count": 70,
     "metadata": {},
     "output_type": "execute_result"
    }
   ],
   "source": [
    "# Host Identity Varified\n",
    "listings['host_identity_verified'].value_counts()"
   ]
  },
  {
   "cell_type": "code",
   "execution_count": 71,
   "metadata": {},
   "outputs": [
    {
     "data": {
      "text/plain": [
       "0        Gilman Dr W, Seattle, WA 98119, United States\n",
       "1    7th Avenue West, Seattle, WA 98119, United States\n",
       "2    West Lee Street, Seattle, WA 98119, United States\n",
       "3    8th Avenue West, Seattle, WA 98119, United States\n",
       "4         14th Ave W, Seattle, WA 98119, United States\n",
       "5    West Comstock Street, Seattle, WA 98119, Unite...\n",
       "6    10th Avenue West, Seattle, WA 98119, United St...\n",
       "7    West Wheeler Street, Seattle, WA 98119, United...\n",
       "8    Queen Anne Avenue North, Seattle, WA 98109, Un...\n",
       "9    7th Avenue West, Seattle, WA 98119, United States\n",
       "Name: street, dtype: object"
      ]
     },
     "execution_count": 71,
     "metadata": {},
     "output_type": "execute_result"
    }
   ],
   "source": [
    "# Host Street\n",
    "listings['street'].head(10)"
   ]
  },
  {
   "cell_type": "code",
   "execution_count": 72,
   "metadata": {},
   "outputs": [
    {
     "data": {
      "text/plain": [
       "0.0"
      ]
     },
     "execution_count": 72,
     "metadata": {},
     "output_type": "execute_result"
    }
   ],
   "source": [
    "listings['street'].isnull().mean()"
   ]
  },
  {
   "cell_type": "code",
   "execution_count": 73,
   "metadata": {},
   "outputs": [],
   "source": [
    "# Drop street\n",
    "listings = listings.drop(columns = ['street'])"
   ]
  },
  {
   "cell_type": "code",
   "execution_count": 74,
   "metadata": {},
   "outputs": [
    {
     "data": {
      "text/plain": [
       "175                       Ballard\n",
       "1326                     Belltown\n",
       "3127          University District\n",
       "1695    Central Business District\n",
       "3742                      Fremont\n",
       "821         Harrison/Denny-Blaine\n",
       "2070            North Beacon Hill\n",
       "2338                  Seward Park\n",
       "2904                          NaN\n",
       "3325               Licton Springs\n",
       "Name: neighbourhood, dtype: object"
      ]
     },
     "execution_count": 74,
     "metadata": {},
     "output_type": "execute_result"
    }
   ],
   "source": [
    "# neighbourhood\n",
    "listings['neighbourhood'].sample(10)"
   ]
  },
  {
   "cell_type": "code",
   "execution_count": 75,
   "metadata": {},
   "outputs": [
    {
     "data": {
      "text/plain": [
       "82"
      ]
     },
     "execution_count": 75,
     "metadata": {},
     "output_type": "execute_result"
    }
   ],
   "source": [
    "# neighbourhood\n",
    "len(listings['neighbourhood'].unique())"
   ]
  },
  {
   "cell_type": "code",
   "execution_count": 76,
   "metadata": {},
   "outputs": [],
   "source": [
    "# Maybe dummy, maybe drop neighborhood"
   ]
  },
  {
   "cell_type": "code",
   "execution_count": 77,
   "metadata": {},
   "outputs": [
    {
     "data": {
      "text/plain": [
       "198        West Woodland\n",
       "2754            Broadway\n",
       "2005           Greenwood\n",
       "3174    Lower Queen Anne\n",
       "3199    Lower Queen Anne\n",
       "3320           Pinehurst\n",
       "176        West Woodland\n",
       "3462          High Point\n",
       "1799       North Admiral\n",
       "2052          Holly Park\n",
       "Name: neighbourhood_cleansed, dtype: object"
      ]
     },
     "execution_count": 77,
     "metadata": {},
     "output_type": "execute_result"
    }
   ],
   "source": [
    "# neighbourhood_cleansed\n",
    "listings['neighbourhood_cleansed'].sample(10)"
   ]
  },
  {
   "cell_type": "code",
   "execution_count": 78,
   "metadata": {},
   "outputs": [
    {
     "data": {
      "text/plain": [
       "87"
      ]
     },
     "execution_count": 78,
     "metadata": {},
     "output_type": "execute_result"
    }
   ],
   "source": [
    "len(listings['neighbourhood_cleansed'].unique())"
   ]
  },
  {
   "cell_type": "code",
   "execution_count": 79,
   "metadata": {},
   "outputs": [],
   "source": [
    "# Drop regular neighborhood column and keep clean one\n",
    "listings = listings.drop(columns = ['neighbourhood'])"
   ]
  },
  {
   "cell_type": "code",
   "execution_count": 80,
   "metadata": {},
   "outputs": [
    {
     "data": {
      "text/plain": [
       "328     Other neighborhoods\n",
       "1774           West Seattle\n",
       "1379               Downtown\n",
       "520     Other neighborhoods\n",
       "2511               Delridge\n",
       "1114                Cascade\n",
       "1473               Downtown\n",
       "918            Central Area\n",
       "3220             Queen Anne\n",
       "1106                Cascade\n",
       "Name: neighbourhood_group_cleansed, dtype: object"
      ]
     },
     "execution_count": 80,
     "metadata": {},
     "output_type": "execute_result"
    }
   ],
   "source": [
    "# neighbourhood_group_cleansed\n",
    "listings['neighbourhood_group_cleansed'].sample(10)"
   ]
  },
  {
   "cell_type": "code",
   "execution_count": 81,
   "metadata": {},
   "outputs": [
    {
     "data": {
      "text/plain": [
       "17"
      ]
     },
     "execution_count": 81,
     "metadata": {},
     "output_type": "execute_result"
    }
   ],
   "source": [
    "len(listings['neighbourhood_group_cleansed'].unique())"
   ]
  },
  {
   "cell_type": "code",
   "execution_count": 82,
   "metadata": {},
   "outputs": [],
   "source": [
    "# Should use neighborhood group for sure. I don't want to overwhelm the model with too many dummy columns.\n",
    "listings = listings.drop(columns = ['neighbourhood_cleansed'])"
   ]
  },
  {
   "cell_type": "code",
   "execution_count": 83,
   "metadata": {},
   "outputs": [
    {
     "data": {
      "text/plain": [
       "3339    98103\n",
       "2886    98102\n",
       "2049    98103\n",
       "585     98122\n",
       "3464    98106\n",
       "2185    98118\n",
       "1736    98116\n",
       "2616    98122\n",
       "1909    98116\n",
       "738     98105\n",
       "Name: zipcode, dtype: object"
      ]
     },
     "execution_count": 83,
     "metadata": {},
     "output_type": "execute_result"
    }
   ],
   "source": [
    "# Zip code\n",
    "listings['zipcode'].sample(10)"
   ]
  },
  {
   "cell_type": "code",
   "execution_count": 84,
   "metadata": {},
   "outputs": [
    {
     "data": {
      "text/plain": [
       "29"
      ]
     },
     "execution_count": 84,
     "metadata": {},
     "output_type": "execute_result"
    }
   ],
   "source": [
    "len(listings.zipcode.unique())"
   ]
  },
  {
   "cell_type": "code",
   "execution_count": 85,
   "metadata": {},
   "outputs": [],
   "source": [
    "# Drop, I think neighborhood group will capture this\n",
    "listings = listings.drop(columns = ['zipcode'])"
   ]
  },
  {
   "cell_type": "code",
   "execution_count": 86,
   "metadata": {},
   "outputs": [
    {
     "data": {
      "text/plain": [
       "3650    Seattle\n",
       "1949    Seattle\n",
       "2638    Seattle\n",
       "2929    Seattle\n",
       "2293    Seattle\n",
       "2486    Seattle\n",
       "2384    Seattle\n",
       "3250    Seattle\n",
       "2849    Seattle\n",
       "2757    Seattle\n",
       "Name: market, dtype: object"
      ]
     },
     "execution_count": 86,
     "metadata": {},
     "output_type": "execute_result"
    }
   ],
   "source": [
    "# Market\n",
    "listings['market'].sample(10)"
   ]
  },
  {
   "cell_type": "code",
   "execution_count": 87,
   "metadata": {},
   "outputs": [
    {
     "data": {
      "text/plain": [
       "Seattle    3818\n",
       "Name: market, dtype: int64"
      ]
     },
     "execution_count": 87,
     "metadata": {},
     "output_type": "execute_result"
    }
   ],
   "source": [
    "listings['market'].value_counts()"
   ]
  },
  {
   "cell_type": "code",
   "execution_count": 88,
   "metadata": {},
   "outputs": [],
   "source": [
    "# Drop\n",
    "listings = listings.drop(columns = ['market'])"
   ]
  },
  {
   "cell_type": "code",
   "execution_count": 89,
   "metadata": {},
   "outputs": [
    {
     "data": {
      "text/plain": [
       "0    Seattle, WA\n",
       "1    Seattle, WA\n",
       "2    Seattle, WA\n",
       "3    Seattle, WA\n",
       "4    Seattle, WA\n",
       "Name: smart_location, dtype: object"
      ]
     },
     "execution_count": 89,
     "metadata": {},
     "output_type": "execute_result"
    }
   ],
   "source": [
    "# smart_location\n",
    "listings['smart_location'].head()"
   ]
  },
  {
   "cell_type": "code",
   "execution_count": 90,
   "metadata": {},
   "outputs": [
    {
     "data": {
      "text/plain": [
       "array(['Seattle, WA', 'Ballard, Seattle, WA', 'West Seattle, WA',\n",
       "       'Seattle , WA', '西雅图, WA', 'Phinney Ridge Seattle, WA',\n",
       "       'seattle, wa'], dtype=object)"
      ]
     },
     "execution_count": 90,
     "metadata": {},
     "output_type": "execute_result"
    }
   ],
   "source": [
    "listings['smart_location'].unique()"
   ]
  },
  {
   "cell_type": "code",
   "execution_count": 91,
   "metadata": {},
   "outputs": [],
   "source": [
    "# Drop\n",
    "listings = listings.drop(columns = ['smart_location'])"
   ]
  },
  {
   "cell_type": "code",
   "execution_count": 92,
   "metadata": {},
   "outputs": [],
   "source": [
    "# Is location exact - drop\n",
    "listings = listings.drop(columns = ['is_location_exact'])"
   ]
  },
  {
   "cell_type": "code",
   "execution_count": 93,
   "metadata": {},
   "outputs": [
    {
     "data": {
      "text/plain": [
       "0    Apartment\n",
       "1    Apartment\n",
       "2        House\n",
       "3    Apartment\n",
       "4        House\n",
       "Name: property_type, dtype: object"
      ]
     },
     "execution_count": 93,
     "metadata": {},
     "output_type": "execute_result"
    }
   ],
   "source": [
    "# Property Type\n",
    "listings['property_type'].head()"
   ]
  },
  {
   "cell_type": "code",
   "execution_count": 94,
   "metadata": {},
   "outputs": [
    {
     "data": {
      "text/plain": [
       "House              1733\n",
       "Apartment          1708\n",
       "Townhouse           118\n",
       "Condominium          91\n",
       "Loft                 40\n",
       "Bed & Breakfast      37\n",
       "Other                22\n",
       "Cabin                21\n",
       "Bungalow             13\n",
       "Camper/RV            13\n",
       "Boat                  8\n",
       "Tent                  5\n",
       "Treehouse             3\n",
       "Chalet                2\n",
       "Dorm                  2\n",
       "Yurt                  1\n",
       "Name: property_type, dtype: int64"
      ]
     },
     "execution_count": 94,
     "metadata": {},
     "output_type": "execute_result"
    }
   ],
   "source": [
    "listings['property_type'].value_counts()"
   ]
  },
  {
   "cell_type": "code",
   "execution_count": 95,
   "metadata": {},
   "outputs": [],
   "source": [
    "# Will dummy property type for modelling"
   ]
  },
  {
   "cell_type": "code",
   "execution_count": 96,
   "metadata": {},
   "outputs": [
    {
     "data": {
      "text/plain": [
       "\" property_type', 'room_type', 'accommodates', 'bathrooms',\\n       'bedrooms', 'beds', 'bed_type', 'amenities' will all surely be useful\""
      ]
     },
     "execution_count": 96,
     "metadata": {},
     "output_type": "execute_result"
    }
   ],
   "source": [
    "''' property_type', 'room_type', 'accommodates', 'bathrooms',\n",
    "       'bedrooms', 'beds', 'bed_type', 'amenities' will all surely be useful'''"
   ]
  },
  {
   "cell_type": "code",
   "execution_count": 97,
   "metadata": {},
   "outputs": [
    {
     "data": {
      "text/plain": [
       "0          NaN\n",
       "1    $1,000.00\n",
       "2          NaN\n",
       "3      $650.00\n",
       "4          NaN\n",
       "Name: weekly_price, dtype: object"
      ]
     },
     "execution_count": 97,
     "metadata": {},
     "output_type": "execute_result"
    }
   ],
   "source": [
    "listings['weekly_price'].head()"
   ]
  },
  {
   "cell_type": "code",
   "execution_count": 98,
   "metadata": {},
   "outputs": [
    {
     "data": {
      "text/plain": [
       "0.4738082765845993"
      ]
     },
     "execution_count": 98,
     "metadata": {},
     "output_type": "execute_result"
    }
   ],
   "source": [
    "listings['weekly_price'].isnull().mean()"
   ]
  },
  {
   "cell_type": "code",
   "execution_count": 99,
   "metadata": {},
   "outputs": [
    {
     "data": {
      "text/plain": [
       "0.6026715557883708"
      ]
     },
     "execution_count": 99,
     "metadata": {},
     "output_type": "execute_result"
    }
   ],
   "source": [
    "listings['monthly_price'].isnull().mean()"
   ]
  },
  {
   "cell_type": "code",
   "execution_count": 100,
   "metadata": {},
   "outputs": [],
   "source": [
    "# I think I'll drop these, and use the calendar dateset to calculate these values\n",
    "listings = listings.drop(columns = ['weekly_price', 'monthly_price'])"
   ]
  },
  {
   "cell_type": "code",
   "execution_count": 101,
   "metadata": {},
   "outputs": [
    {
     "data": {
      "text/plain": [
       "0          NaN\n",
       "1      $100.00\n",
       "2    $1,000.00\n",
       "3          NaN\n",
       "4      $700.00\n",
       "5          NaN\n",
       "6      $150.00\n",
       "7      $150.00\n",
       "8          NaN\n",
       "9      $100.00\n",
       "Name: security_deposit, dtype: object"
      ]
     },
     "execution_count": 101,
     "metadata": {},
     "output_type": "execute_result"
    }
   ],
   "source": [
    "# Security deposit\n",
    "listings['security_deposit'].head(10)"
   ]
  },
  {
   "cell_type": "code",
   "execution_count": 102,
   "metadata": {},
   "outputs": [
    {
     "data": {
      "text/plain": [
       "0"
      ]
     },
     "execution_count": 102,
     "metadata": {},
     "output_type": "execute_result"
    }
   ],
   "source": [
    "len(listings[listings['security_deposit'] == 0])"
   ]
  },
  {
   "cell_type": "code",
   "execution_count": 103,
   "metadata": {},
   "outputs": [],
   "source": [
    "3 # I assume that nulls represent no security deposit\n",
    "listings['security_deposit'] = listings['security_deposit'].fillna(0)"
   ]
  },
  {
   "cell_type": "code",
   "execution_count": 104,
   "metadata": {},
   "outputs": [
    {
     "name": "stdout",
     "output_type": "stream",
     "text": [
      "0\n"
     ]
    },
    {
     "data": {
      "text/plain": [
       "0        NaN\n",
       "1     $40.00\n",
       "2    $300.00\n",
       "3        NaN\n",
       "4    $125.00\n",
       "5     $40.00\n",
       "6        NaN\n",
       "7     $25.00\n",
       "8        NaN\n",
       "9     $40.00\n",
       "Name: cleaning_fee, dtype: object"
      ]
     },
     "execution_count": 104,
     "metadata": {},
     "output_type": "execute_result"
    }
   ],
   "source": [
    "# Cleaning fee\n",
    "print(len(listings[listings['cleaning_fee'] == 0]))\n",
    "listings['cleaning_fee'].head(10)"
   ]
  },
  {
   "cell_type": "code",
   "execution_count": 105,
   "metadata": {},
   "outputs": [],
   "source": [
    "# Here too, I assume null cleaning fees mean $0\n",
    "listings['cleaning_fee'] = listings['cleaning_fee'].fillna(0)"
   ]
  },
  {
   "cell_type": "code",
   "execution_count": 106,
   "metadata": {},
   "outputs": [
    {
     "data": {
      "text/plain": [
       "0     2\n",
       "1     1\n",
       "2    10\n",
       "3     1\n",
       "4     6\n",
       "Name: guests_included, dtype: int64"
      ]
     },
     "execution_count": 106,
     "metadata": {},
     "output_type": "execute_result"
    }
   ],
   "source": [
    "# Guests included\n",
    "listings['guests_included'].head()"
   ]
  },
  {
   "cell_type": "code",
   "execution_count": 107,
   "metadata": {},
   "outputs": [
    {
     "data": {
      "text/plain": [
       "count    3818.000000\n",
       "mean        1.672603\n",
       "std         1.311040\n",
       "min         0.000000\n",
       "25%         1.000000\n",
       "50%         1.000000\n",
       "75%         2.000000\n",
       "max        15.000000\n",
       "Name: guests_included, dtype: float64"
      ]
     },
     "execution_count": 107,
     "metadata": {},
     "output_type": "execute_result"
    }
   ],
   "source": [
    "listings['guests_included'].describe()"
   ]
  },
  {
   "cell_type": "code",
   "execution_count": 108,
   "metadata": {},
   "outputs": [
    {
     "data": {
      "text/plain": [
       "0"
      ]
     },
     "execution_count": 108,
     "metadata": {},
     "output_type": "execute_result"
    }
   ],
   "source": [
    "listings['guests_included'].isnull().sum()"
   ]
  },
  {
   "cell_type": "code",
   "execution_count": 109,
   "metadata": {},
   "outputs": [
    {
     "data": {
      "text/plain": [
       "0     $5.00\n",
       "1     $0.00\n",
       "2    $25.00\n",
       "3     $0.00\n",
       "4    $15.00\n",
       "Name: extra_people, dtype: object"
      ]
     },
     "execution_count": 109,
     "metadata": {},
     "output_type": "execute_result"
    }
   ],
   "source": [
    "# Extra people\n",
    "listings['extra_people'].head()"
   ]
  },
  {
   "cell_type": "code",
   "execution_count": 110,
   "metadata": {},
   "outputs": [
    {
     "data": {
      "text/plain": [
       "count      3818\n",
       "unique       45\n",
       "top       $0.00\n",
       "freq       2048\n",
       "Name: extra_people, dtype: object"
      ]
     },
     "execution_count": 110,
     "metadata": {},
     "output_type": "execute_result"
    }
   ],
   "source": [
    "listings['extra_people'].describe()"
   ]
  },
  {
   "cell_type": "code",
   "execution_count": 111,
   "metadata": {},
   "outputs": [],
   "source": [
    "# I'll rename this to something more intuitive and bin them into groups.\n",
    "listings['extra_people_fee'] = listings['extra_people'].apply(lambda x: x.split('.')[0].replace('$', '')).astype('int')"
   ]
  },
  {
   "cell_type": "code",
   "execution_count": 112,
   "metadata": {},
   "outputs": [
    {
     "data": {
      "text/plain": [
       "count    3818.000000\n",
       "mean       10.667627\n",
       "std        17.585922\n",
       "min         0.000000\n",
       "25%         0.000000\n",
       "50%         0.000000\n",
       "75%        20.000000\n",
       "max       300.000000\n",
       "Name: extra_people_fee, dtype: float64"
      ]
     },
     "execution_count": 112,
     "metadata": {},
     "output_type": "execute_result"
    }
   ],
   "source": [
    "listings['extra_people_fee'].describe()"
   ]
  },
  {
   "cell_type": "code",
   "execution_count": 113,
   "metadata": {},
   "outputs": [],
   "source": [
    "# drop origional and bin into new column\n",
    "listings = listings.drop(columns = ['extra_people'])"
   ]
  },
  {
   "cell_type": "code",
   "execution_count": 114,
   "metadata": {},
   "outputs": [],
   "source": [
    "def extra_people(row):\n",
    "    if row['extra_people_fee'] == 0:\n",
    "        return 'No Fee'\n",
    "    elif row['extra_people_fee'] < 21:\n",
    "        return '$1 - $20'\n",
    "    elif row['extra_people_fee'] < 51:\n",
    "        return '$21 - $50'\n",
    "    else:\n",
    "        return 'Greater than $50'\n",
    "\n",
    "listings['extra_people_fee'] = listings.apply(extra_people, axis = 1)"
   ]
  },
  {
   "cell_type": "code",
   "execution_count": 115,
   "metadata": {},
   "outputs": [
    {
     "data": {
      "text/plain": [
       "No Fee              2048\n",
       "$1 - $20            1090\n",
       "$21 - $50            627\n",
       "Greater than $50      53\n",
       "Name: extra_people_fee, dtype: int64"
      ]
     },
     "execution_count": 115,
     "metadata": {},
     "output_type": "execute_result"
    }
   ],
   "source": [
    "listings['extra_people_fee'].value_counts()"
   ]
  },
  {
   "cell_type": "code",
   "execution_count": 116,
   "metadata": {},
   "outputs": [
    {
     "data": {
      "text/plain": [
       "count    3818.000000\n",
       "mean        2.369303\n",
       "std        16.305902\n",
       "min         1.000000\n",
       "25%         1.000000\n",
       "50%         2.000000\n",
       "75%         2.000000\n",
       "max      1000.000000\n",
       "Name: minimum_nights, dtype: float64"
      ]
     },
     "execution_count": 116,
     "metadata": {},
     "output_type": "execute_result"
    }
   ],
   "source": [
    "# Minium nights\n",
    "listings.minimum_nights.describe()"
   ]
  },
  {
   "cell_type": "code",
   "execution_count": 117,
   "metadata": {},
   "outputs": [
    {
     "data": {
      "text/plain": [
       "0"
      ]
     },
     "execution_count": 117,
     "metadata": {},
     "output_type": "execute_result"
    }
   ],
   "source": [
    "listings.minimum_nights.isnull().sum()"
   ]
  },
  {
   "cell_type": "code",
   "execution_count": 118,
   "metadata": {},
   "outputs": [],
   "source": [
    "# I'll bin these as well\n",
    "\n",
    "def min_nights(row):\n",
    "    if row['minimum_nights'] < 3:\n",
    "        return 'Less than 3 nights'\n",
    "    elif row['minimum_nights'] < 11:\n",
    "        return '3 - 10 nights'\n",
    "    elif row['minimum_nights'] < 31:\n",
    "        return '11 - 30 nights'\n",
    "    else:\n",
    "        return 'Greater than 30 nights'\n",
    "    \n",
    "listings['minimum_nights'] = listings.apply(min_nights, axis=1)"
   ]
  },
  {
   "cell_type": "code",
   "execution_count": 119,
   "metadata": {},
   "outputs": [
    {
     "data": {
      "text/plain": [
       "count      3818.000000\n",
       "mean        780.447617\n",
       "std        1683.589007\n",
       "min           1.000000\n",
       "25%          60.000000\n",
       "50%        1125.000000\n",
       "75%        1125.000000\n",
       "max      100000.000000\n",
       "Name: maximum_nights, dtype: float64"
      ]
     },
     "execution_count": 119,
     "metadata": {},
     "output_type": "execute_result"
    }
   ],
   "source": [
    "# Mex nights\n",
    "listings['maximum_nights'].describe()"
   ]
  },
  {
   "cell_type": "code",
   "execution_count": 120,
   "metadata": {},
   "outputs": [
    {
     "data": {
      "text/plain": [
       "0    1125\n",
       "dtype: int64"
      ]
     },
     "execution_count": 120,
     "metadata": {},
     "output_type": "execute_result"
    }
   ],
   "source": [
    "listings['maximum_nights'].mode()"
   ]
  },
  {
   "cell_type": "code",
   "execution_count": 121,
   "metadata": {},
   "outputs": [],
   "source": [
    "# Binary. is max nights less than 5 or not\n",
    "listings['maximum_nights'] = listings['maximum_nights'].apply(lambda x: 1 if x < 5 else 0)"
   ]
  },
  {
   "cell_type": "code",
   "execution_count": 122,
   "metadata": {},
   "outputs": [
    {
     "data": {
      "text/plain": [
       "0    3752\n",
       "1      66\n",
       "Name: maximum_nights, dtype: int64"
      ]
     },
     "execution_count": 122,
     "metadata": {},
     "output_type": "execute_result"
    }
   ],
   "source": [
    "listings['maximum_nights'].value_counts()"
   ]
  },
  {
   "cell_type": "code",
   "execution_count": 123,
   "metadata": {},
   "outputs": [
    {
     "data": {
      "text/plain": [
       "array(['id', 'host_id', 'description', 'neighborhood_overview', 'notes',\n",
       "       'transit', 'host_response_time', 'host_response_rate',\n",
       "       'host_is_superhost', 'host_listings_count', 'host_has_profile_pic',\n",
       "       'host_identity_verified', 'neighbourhood_group_cleansed',\n",
       "       'property_type', 'room_type', 'accommodates', 'bathrooms',\n",
       "       'bedrooms', 'beds', 'bed_type', 'amenities', 'price',\n",
       "       'security_deposit', 'cleaning_fee', 'guests_included',\n",
       "       'minimum_nights', 'maximum_nights', 'calendar_updated',\n",
       "       'has_availability', 'availability_30', 'availability_60',\n",
       "       'availability_90', 'availability_365', 'calendar_last_scraped',\n",
       "       'number_of_reviews', 'first_review', 'last_review',\n",
       "       'review_scores_rating', 'review_scores_accuracy',\n",
       "       'review_scores_cleanliness', 'review_scores_checkin',\n",
       "       'review_scores_communication', 'review_scores_location',\n",
       "       'review_scores_value', 'requires_license', 'license',\n",
       "       'jurisdiction_names', 'instant_bookable', 'cancellation_policy',\n",
       "       'require_guest_profile_picture',\n",
       "       'require_guest_phone_verification',\n",
       "       'calculated_host_listings_count', 'reviews_per_month',\n",
       "       'listings_sf_null', 'host_tenure', 'Host_Seattle',\n",
       "       'host_has_about', 'Acceptance_100', 'extra_people_fee'],\n",
       "      dtype=object)"
      ]
     },
     "execution_count": 123,
     "metadata": {},
     "output_type": "execute_result"
    }
   ],
   "source": [
    "listings.columns.values"
   ]
  },
  {
   "cell_type": "code",
   "execution_count": 124,
   "metadata": {},
   "outputs": [],
   "source": [
    "listings = listings.drop(columns = ['calendar_updated', 'has_availability', 'calendar_last_scraped'])"
   ]
  },
  {
   "cell_type": "code",
   "execution_count": 125,
   "metadata": {},
   "outputs": [
    {
     "data": {
      "text/plain": [
       "count    3818.000000\n",
       "mean       16.786276\n",
       "std        12.173637\n",
       "min         0.000000\n",
       "25%         2.000000\n",
       "50%        20.000000\n",
       "75%        30.000000\n",
       "max        30.000000\n",
       "Name: availability_30, dtype: float64"
      ]
     },
     "execution_count": 125,
     "metadata": {},
     "output_type": "execute_result"
    }
   ],
   "source": [
    "listings.availability_30.describe()"
   ]
  },
  {
   "cell_type": "code",
   "execution_count": 126,
   "metadata": {},
   "outputs": [
    {
     "data": {
      "text/plain": [
       "count    3818.000000\n",
       "mean       36.814825\n",
       "std        23.337541\n",
       "min         0.000000\n",
       "25%        13.000000\n",
       "50%        46.000000\n",
       "75%        59.000000\n",
       "max        60.000000\n",
       "Name: availability_60, dtype: float64"
      ]
     },
     "execution_count": 126,
     "metadata": {},
     "output_type": "execute_result"
    }
   ],
   "source": [
    "listings.availability_60.describe()"
   ]
  },
  {
   "cell_type": "code",
   "execution_count": 127,
   "metadata": {},
   "outputs": [
    {
     "data": {
      "text/plain": [
       "count    3818.000000\n",
       "mean       58.082504\n",
       "std        34.063845\n",
       "min         0.000000\n",
       "25%        28.000000\n",
       "50%        73.000000\n",
       "75%        89.000000\n",
       "max        90.000000\n",
       "Name: availability_90, dtype: float64"
      ]
     },
     "execution_count": 127,
     "metadata": {},
     "output_type": "execute_result"
    }
   ],
   "source": [
    "listings.availability_90.describe()"
   ]
  },
  {
   "cell_type": "code",
   "execution_count": 128,
   "metadata": {},
   "outputs": [
    {
     "data": {
      "text/plain": [
       "count    3818.000000\n",
       "mean      244.772656\n",
       "std       126.772526\n",
       "min         0.000000\n",
       "25%       124.000000\n",
       "50%       308.000000\n",
       "75%       360.000000\n",
       "max       365.000000\n",
       "Name: availability_365, dtype: float64"
      ]
     },
     "execution_count": 128,
     "metadata": {},
     "output_type": "execute_result"
    }
   ],
   "source": [
    "listings.availability_365.describe()"
   ]
  },
  {
   "cell_type": "code",
   "execution_count": 129,
   "metadata": {},
   "outputs": [],
   "source": [
    "# I'll keep all of these availability stats"
   ]
  },
  {
   "cell_type": "code",
   "execution_count": 130,
   "metadata": {},
   "outputs": [
    {
     "data": {
      "text/plain": [
       "0    207\n",
       "1     43\n",
       "2     20\n",
       "3      0\n",
       "4     38\n",
       "Name: number_of_reviews, dtype: int64"
      ]
     },
     "execution_count": 130,
     "metadata": {},
     "output_type": "execute_result"
    }
   ],
   "source": [
    "listings['number_of_reviews'].head()"
   ]
  },
  {
   "cell_type": "code",
   "execution_count": 131,
   "metadata": {},
   "outputs": [
    {
     "data": {
      "text/plain": [
       "count    3818.000000\n",
       "mean       22.223415\n",
       "std        37.730892\n",
       "min         0.000000\n",
       "25%         2.000000\n",
       "50%         9.000000\n",
       "75%        26.000000\n",
       "max       474.000000\n",
       "Name: number_of_reviews, dtype: float64"
      ]
     },
     "execution_count": 131,
     "metadata": {},
     "output_type": "execute_result"
    }
   ],
   "source": [
    "listings['number_of_reviews'].describe()"
   ]
  },
  {
   "cell_type": "code",
   "execution_count": 132,
   "metadata": {},
   "outputs": [
    {
     "data": {
      "text/plain": [
       "0"
      ]
     },
     "execution_count": 132,
     "metadata": {},
     "output_type": "execute_result"
    }
   ],
   "source": [
    "listings['number_of_reviews'].isnull().sum()"
   ]
  },
  {
   "cell_type": "code",
   "execution_count": 133,
   "metadata": {},
   "outputs": [
    {
     "data": {
      "text/plain": [
       "0    2011-11-01\n",
       "1    2013-08-19\n",
       "2    2014-07-30\n",
       "3           NaN\n",
       "4    2012-07-10\n",
       "Name: first_review, dtype: object"
      ]
     },
     "execution_count": 133,
     "metadata": {},
     "output_type": "execute_result"
    }
   ],
   "source": [
    "listings['first_review'].head()"
   ]
  },
  {
   "cell_type": "code",
   "execution_count": 134,
   "metadata": {},
   "outputs": [
    {
     "data": {
      "text/plain": [
       "0    2016-01-02\n",
       "1    2015-12-29\n",
       "2    2015-09-03\n",
       "3           NaN\n",
       "4    2015-10-24\n",
       "Name: last_review, dtype: object"
      ]
     },
     "execution_count": 134,
     "metadata": {},
     "output_type": "execute_result"
    }
   ],
   "source": [
    "listings['last_review'].head()"
   ]
  },
  {
   "cell_type": "code",
   "execution_count": 135,
   "metadata": {},
   "outputs": [],
   "source": [
    "# drop first and last review\n",
    "listings = listings.drop(columns = ['first_review', 'last_review'])"
   ]
  },
  {
   "cell_type": "code",
   "execution_count": 136,
   "metadata": {},
   "outputs": [
    {
     "data": {
      "text/plain": [
       "0    95.0\n",
       "1    96.0\n",
       "2    97.0\n",
       "3     NaN\n",
       "4    92.0\n",
       "Name: review_scores_rating, dtype: float64"
      ]
     },
     "execution_count": 136,
     "metadata": {},
     "output_type": "execute_result"
    }
   ],
   "source": [
    "# Reviews score rating\n",
    "listings['review_scores_rating'].head()"
   ]
  },
  {
   "cell_type": "code",
   "execution_count": 137,
   "metadata": {},
   "outputs": [
    {
     "data": {
      "text/plain": [
       "count    3171.000000\n",
       "mean       94.539262\n",
       "std         6.606083\n",
       "min        20.000000\n",
       "25%        93.000000\n",
       "50%        96.000000\n",
       "75%        99.000000\n",
       "max       100.000000\n",
       "Name: review_scores_rating, dtype: float64"
      ]
     },
     "execution_count": 137,
     "metadata": {},
     "output_type": "execute_result"
    }
   ],
   "source": [
    "listings['review_scores_rating'].describe()"
   ]
  },
  {
   "cell_type": "code",
   "execution_count": 138,
   "metadata": {},
   "outputs": [],
   "source": [
    "# I'll bin all of the review scores, preserving records with no reviews.\n",
    "def rsr(row):\n",
    "    if pd.isnull(row['review_scores_rating']):\n",
    "        return 'No Review Score'\n",
    "    elif row['review_scores_rating'] < 80:\n",
    "        return 'Review Score Less than 80'\n",
    "    elif row['review_scores_rating'] < 90:\n",
    "        return 'Review Score 80-89'\n",
    "    elif row['review_scores_rating'] < 95:\n",
    "        return 'Review Score 90-94'\n",
    "    else:\n",
    "        return 'Review Score 95 - 100'\n",
    "\n",
    "listings['review_scores_rating'] = listings.apply(rsr, axis = 1)"
   ]
  },
  {
   "cell_type": "code",
   "execution_count": 139,
   "metadata": {},
   "outputs": [
    {
     "data": {
      "text/plain": [
       "Review Score 95 - 100        2023\n",
       "Review Score 90-94            722\n",
       "No Review Score               647\n",
       "Review Score 80-89            356\n",
       "Review Score Less than 80      70\n",
       "Name: review_scores_rating, dtype: int64"
      ]
     },
     "execution_count": 139,
     "metadata": {},
     "output_type": "execute_result"
    }
   ],
   "source": [
    "listings['review_scores_rating'].value_counts()"
   ]
  },
  {
   "cell_type": "code",
   "execution_count": 140,
   "metadata": {},
   "outputs": [
    {
     "data": {
      "text/plain": [
       "count    3160.000000\n",
       "mean        9.636392\n",
       "std         0.698031\n",
       "min         2.000000\n",
       "25%         9.000000\n",
       "50%        10.000000\n",
       "75%        10.000000\n",
       "max        10.000000\n",
       "Name: review_scores_accuracy, dtype: float64"
      ]
     },
     "execution_count": 140,
     "metadata": {},
     "output_type": "execute_result"
    }
   ],
   "source": [
    "listings['review_scores_accuracy'].describe()"
   ]
  },
  {
   "cell_type": "code",
   "execution_count": 141,
   "metadata": {},
   "outputs": [],
   "source": [
    "def rsa(row):\n",
    "    if pd.isnull(row['review_scores_accuracy']):\n",
    "        return 'No Review Score Accuracy'\n",
    "    elif row['review_scores_accuracy'] < 10:\n",
    "        return 'Review Score Accuracy Less than 10'\n",
    "    else:\n",
    "        return 'Review Score Accuracy 10'\n",
    "\n",
    "listings['review_scores_accuracy'] = listings.apply(rsa, axis = 1)"
   ]
  },
  {
   "cell_type": "code",
   "execution_count": 142,
   "metadata": {},
   "outputs": [
    {
     "data": {
      "text/plain": [
       "Review Score Accuracy 10              2261\n",
       "Review Score Accuracy Less than 10     899\n",
       "No Review Score Accuracy               658\n",
       "Name: review_scores_accuracy, dtype: int64"
      ]
     },
     "execution_count": 142,
     "metadata": {},
     "output_type": "execute_result"
    }
   ],
   "source": [
    "listings['review_scores_accuracy'].value_counts()"
   ]
  },
  {
   "cell_type": "code",
   "execution_count": 143,
   "metadata": {},
   "outputs": [
    {
     "data": {
      "text/plain": [
       "count    3165.000000\n",
       "mean        9.556398\n",
       "std         0.797274\n",
       "min         3.000000\n",
       "25%         9.000000\n",
       "50%        10.000000\n",
       "75%        10.000000\n",
       "max        10.000000\n",
       "Name: review_scores_cleanliness, dtype: float64"
      ]
     },
     "execution_count": 143,
     "metadata": {},
     "output_type": "execute_result"
    }
   ],
   "source": [
    "listings['review_scores_cleanliness'].describe()"
   ]
  },
  {
   "cell_type": "code",
   "execution_count": 144,
   "metadata": {},
   "outputs": [],
   "source": [
    "def rsc(row):\n",
    "    if row['review_scores_cleanliness'] == 10:\n",
    "        return 'Review Score Cleanliness 10'\n",
    "    elif pd.isnull(row['review_scores_cleanliness']):\n",
    "        return 'No Review Score Cleanliness'\n",
    "    elif row['review_scores_cleanliness'] < 7:\n",
    "        return 'Review Score Cleanliness Less than 7'\n",
    "    else: \n",
    "        return 'Review Score Cleanliness 7 - 10'\n",
    "\n",
    "\n",
    "listings['review_scores_cleanliness'] = listings.apply(rsc, axis = 1)"
   ]
  },
  {
   "cell_type": "code",
   "execution_count": 145,
   "metadata": {},
   "outputs": [
    {
     "data": {
      "text/plain": [
       "Review Score Cleanliness 10             2161\n",
       "Review Score Cleanliness 7 - 10          964\n",
       "No Review Score Cleanliness              653\n",
       "Review Score Cleanliness Less than 7      40\n",
       "Name: review_scores_cleanliness, dtype: int64"
      ]
     },
     "execution_count": 145,
     "metadata": {},
     "output_type": "execute_result"
    }
   ],
   "source": [
    "listings['review_scores_cleanliness'].value_counts()"
   ]
  },
  {
   "cell_type": "code",
   "execution_count": 146,
   "metadata": {},
   "outputs": [
    {
     "data": {
      "text/plain": [
       "count    3160.000000\n",
       "mean        9.786709\n",
       "std         0.595499\n",
       "min         2.000000\n",
       "25%        10.000000\n",
       "50%        10.000000\n",
       "75%        10.000000\n",
       "max        10.000000\n",
       "Name: review_scores_checkin, dtype: float64"
      ]
     },
     "execution_count": 146,
     "metadata": {},
     "output_type": "execute_result"
    }
   ],
   "source": [
    "listings['review_scores_checkin'].describe()"
   ]
  },
  {
   "cell_type": "code",
   "execution_count": 147,
   "metadata": {},
   "outputs": [],
   "source": [
    "def rsc(row):\n",
    "    if row['review_scores_checkin'] == 10:\n",
    "        return 'Review Score Checkin 10'\n",
    "    elif pd.isnull(row['review_scores_checkin']):\n",
    "        return 'No Review Score Checkin'\n",
    "    elif row['review_scores_checkin'] < 7:\n",
    "        return 'Review Score Checkin Less than 7'\n",
    "    else: \n",
    "        return 'Review Score CheckIn 7 - 10'\n",
    "\n",
    "\n",
    "listings['review_scores_checkin'] = listings.apply(rsc, axis = 1)"
   ]
  },
  {
   "cell_type": "code",
   "execution_count": 148,
   "metadata": {},
   "outputs": [
    {
     "data": {
      "text/plain": [
       "Review Score Checkin 10             2644\n",
       "No Review Score Checkin              658\n",
       "Review Score CheckIn 7 - 10          499\n",
       "Review Score Checkin Less than 7      17\n",
       "Name: review_scores_checkin, dtype: int64"
      ]
     },
     "execution_count": 148,
     "metadata": {},
     "output_type": "execute_result"
    }
   ],
   "source": [
    "listings['review_scores_checkin'].value_counts()"
   ]
  },
  {
   "cell_type": "code",
   "execution_count": 149,
   "metadata": {},
   "outputs": [
    {
     "data": {
      "text/plain": [
       "count    3167.000000\n",
       "mean        9.809599\n",
       "std         0.568211\n",
       "min         2.000000\n",
       "25%        10.000000\n",
       "50%        10.000000\n",
       "75%        10.000000\n",
       "max        10.000000\n",
       "Name: review_scores_communication, dtype: float64"
      ]
     },
     "execution_count": 149,
     "metadata": {},
     "output_type": "execute_result"
    }
   ],
   "source": [
    "listings['review_scores_communication'].describe()"
   ]
  },
  {
   "cell_type": "code",
   "execution_count": 150,
   "metadata": {},
   "outputs": [],
   "source": [
    "def rsc(row):\n",
    "    if row['review_scores_communication'] == 10:\n",
    "        return 'Review Score Communication 10'\n",
    "    elif pd.isnull(row['review_scores_communication']):\n",
    "        return 'No Review Score Communication'\n",
    "    elif row['review_scores_communication'] < 7:\n",
    "        return 'Review Score Communication Less than 7'\n",
    "    else: \n",
    "        return 'Review Score Communication 7 - 10'\n",
    "\n",
    "\n",
    "listings['review_scores_communication'] = listings.apply(rsc, axis = 1)"
   ]
  },
  {
   "cell_type": "code",
   "execution_count": 151,
   "metadata": {},
   "outputs": [
    {
     "data": {
      "text/plain": [
       "Review Score Communication 10             2700\n",
       "No Review Score Communication              651\n",
       "Review Score Communication 7 - 10          452\n",
       "Review Score Communication Less than 7      15\n",
       "Name: review_scores_communication, dtype: int64"
      ]
     },
     "execution_count": 151,
     "metadata": {},
     "output_type": "execute_result"
    }
   ],
   "source": [
    "listings['review_scores_communication'].value_counts()"
   ]
  },
  {
   "cell_type": "code",
   "execution_count": 152,
   "metadata": {},
   "outputs": [],
   "source": [
    "# I'll drop the rest for the sake of my mental health\n",
    "listings = listings.drop(columns= ['review_scores_location', 'review_scores_value'])"
   ]
  },
  {
   "cell_type": "code",
   "execution_count": 153,
   "metadata": {},
   "outputs": [
    {
     "data": {
      "text/plain": [
       "f    3818\n",
       "Name: requires_license, dtype: int64"
      ]
     },
     "execution_count": 153,
     "metadata": {},
     "output_type": "execute_result"
    }
   ],
   "source": [
    "listings['requires_license'].value_counts()"
   ]
  },
  {
   "cell_type": "code",
   "execution_count": 154,
   "metadata": {},
   "outputs": [
    {
     "data": {
      "text/plain": [
       "Series([], Name: license, dtype: int64)"
      ]
     },
     "execution_count": 154,
     "metadata": {},
     "output_type": "execute_result"
    }
   ],
   "source": [
    "listings.license.value_counts()"
   ]
  },
  {
   "cell_type": "code",
   "execution_count": 155,
   "metadata": {},
   "outputs": [
    {
     "data": {
      "text/plain": [
       "WASHINGTON    3818\n",
       "Name: jurisdiction_names, dtype: int64"
      ]
     },
     "execution_count": 155,
     "metadata": {},
     "output_type": "execute_result"
    }
   ],
   "source": [
    "listings['jurisdiction_names'].value_counts()"
   ]
  },
  {
   "cell_type": "code",
   "execution_count": 156,
   "metadata": {},
   "outputs": [],
   "source": [
    "# Drop all of these above\n",
    "listings = listings.drop(columns = ['jurisdiction_names', 'license', 'requires_license'])"
   ]
  },
  {
   "cell_type": "code",
   "execution_count": 157,
   "metadata": {},
   "outputs": [
    {
     "data": {
      "text/plain": [
       "f    3227\n",
       "t     591\n",
       "Name: instant_bookable, dtype: int64"
      ]
     },
     "execution_count": 157,
     "metadata": {},
     "output_type": "execute_result"
    }
   ],
   "source": [
    "listings['instant_bookable'].value_counts()"
   ]
  },
  {
   "cell_type": "code",
   "execution_count": 158,
   "metadata": {},
   "outputs": [
    {
     "data": {
      "text/plain": [
       "0"
      ]
     },
     "execution_count": 158,
     "metadata": {},
     "output_type": "execute_result"
    }
   ],
   "source": [
    "listings['instant_bookable'].isnull().sum()"
   ]
  },
  {
   "cell_type": "code",
   "execution_count": 159,
   "metadata": {},
   "outputs": [
    {
     "data": {
      "text/plain": [
       "strict      1417\n",
       "moderate    1251\n",
       "flexible    1150\n",
       "Name: cancellation_policy, dtype: int64"
      ]
     },
     "execution_count": 159,
     "metadata": {},
     "output_type": "execute_result"
    }
   ],
   "source": [
    "listings['cancellation_policy'].value_counts()"
   ]
  },
  {
   "cell_type": "code",
   "execution_count": 160,
   "metadata": {},
   "outputs": [
    {
     "data": {
      "text/plain": [
       "0"
      ]
     },
     "execution_count": 160,
     "metadata": {},
     "output_type": "execute_result"
    }
   ],
   "source": [
    "listings['cancellation_policy'].isnull().sum()"
   ]
  },
  {
   "cell_type": "code",
   "execution_count": 161,
   "metadata": {},
   "outputs": [
    {
     "data": {
      "text/plain": [
       "f    3497\n",
       "t     321\n",
       "Name: require_guest_profile_picture, dtype: int64"
      ]
     },
     "execution_count": 161,
     "metadata": {},
     "output_type": "execute_result"
    }
   ],
   "source": [
    "listings['require_guest_profile_picture'].value_counts()"
   ]
  },
  {
   "cell_type": "code",
   "execution_count": 162,
   "metadata": {},
   "outputs": [
    {
     "data": {
      "text/plain": [
       "f    3443\n",
       "t     375\n",
       "Name: require_guest_phone_verification, dtype: int64"
      ]
     },
     "execution_count": 162,
     "metadata": {},
     "output_type": "execute_result"
    }
   ],
   "source": [
    "listings['require_guest_phone_verification'].value_counts()"
   ]
  },
  {
   "cell_type": "code",
   "execution_count": 163,
   "metadata": {},
   "outputs": [
    {
     "data": {
      "text/plain": [
       "count    3818.000000\n",
       "mean        2.946307\n",
       "std         5.893029\n",
       "min         1.000000\n",
       "25%         1.000000\n",
       "50%         1.000000\n",
       "75%         2.000000\n",
       "max        37.000000\n",
       "Name: calculated_host_listings_count, dtype: float64"
      ]
     },
     "execution_count": 163,
     "metadata": {},
     "output_type": "execute_result"
    }
   ],
   "source": [
    "listings['calculated_host_listings_count'].describe()"
   ]
  },
  {
   "cell_type": "code",
   "execution_count": 164,
   "metadata": {},
   "outputs": [
    {
     "data": {
      "text/plain": [
       "0"
      ]
     },
     "execution_count": 164,
     "metadata": {},
     "output_type": "execute_result"
    }
   ],
   "source": [
    "listings['calculated_host_listings_count'].isnull().sum()"
   ]
  },
  {
   "cell_type": "code",
   "execution_count": 165,
   "metadata": {},
   "outputs": [
    {
     "data": {
      "text/plain": [
       "count    3191.000000\n",
       "mean        2.078919\n",
       "std         1.822348\n",
       "min         0.020000\n",
       "25%         0.695000\n",
       "50%         1.540000\n",
       "75%         3.000000\n",
       "max        12.150000\n",
       "Name: reviews_per_month, dtype: float64"
      ]
     },
     "execution_count": 165,
     "metadata": {},
     "output_type": "execute_result"
    }
   ],
   "source": [
    "listings['reviews_per_month'].describe()"
   ]
  },
  {
   "cell_type": "code",
   "execution_count": 166,
   "metadata": {},
   "outputs": [
    {
     "data": {
      "text/plain": [
       "627"
      ]
     },
     "execution_count": 166,
     "metadata": {},
     "output_type": "execute_result"
    }
   ],
   "source": [
    "listings['reviews_per_month'].isnull().sum()"
   ]
  },
  {
   "cell_type": "code",
   "execution_count": 167,
   "metadata": {},
   "outputs": [],
   "source": [
    "listings['reviews_per_month'] = listings['reviews_per_month'].fillna(0)"
   ]
  },
  {
   "cell_type": "code",
   "execution_count": 168,
   "metadata": {},
   "outputs": [
    {
     "data": {
      "text/plain": [
       "0                                                  NaN\n",
       "1    Queen Anne is a wonderful, truly functional vi...\n",
       "2    Upper Queen Anne is a charming neighborhood fu...\n",
       "3                                                  NaN\n",
       "4    We are in the beautiful neighborhood of Queen ...\n",
       "Name: neighborhood_overview, dtype: object"
      ]
     },
     "execution_count": 168,
     "metadata": {},
     "output_type": "execute_result"
    }
   ],
   "source": [
    "listings['neighborhood_overview'].head()"
   ]
  },
  {
   "cell_type": "code",
   "execution_count": 169,
   "metadata": {},
   "outputs": [],
   "source": [
    "# For neighborhood overview, I'll create a binary \"IsNull\" column\n",
    "listings['neighborhood_overview'] = listings['neighborhood_overview'].apply(lambda x: 0 if pd.isnull(x) else 1)"
   ]
  },
  {
   "cell_type": "code",
   "execution_count": 170,
   "metadata": {},
   "outputs": [
    {
     "data": {
      "text/plain": [
       "0    0\n",
       "1    1\n",
       "2    1\n",
       "3    0\n",
       "4    1\n",
       "Name: neighborhood_overview, dtype: int64"
      ]
     },
     "execution_count": 170,
     "metadata": {},
     "output_type": "execute_result"
    }
   ],
   "source": [
    "listings['neighborhood_overview'].head()"
   ]
  },
  {
   "cell_type": "code",
   "execution_count": 171,
   "metadata": {},
   "outputs": [
    {
     "data": {
      "text/plain": [
       "0    within a few hours\n",
       "1        within an hour\n",
       "2    within a few hours\n",
       "3                   NaN\n",
       "4        within an hour\n",
       "Name: host_response_time, dtype: object"
      ]
     },
     "execution_count": 171,
     "metadata": {},
     "output_type": "execute_result"
    }
   ],
   "source": [
    "listings['host_response_time'].head()"
   ]
  },
  {
   "cell_type": "code",
   "execution_count": 172,
   "metadata": {},
   "outputs": [],
   "source": [
    "# I'll replace nulls with \"No Data\"\n",
    "listings['host_response_time'] = listings['host_response_time'].apply(lambda x: \"No Data\" if pd.isnull(x) else x)"
   ]
  },
  {
   "cell_type": "code",
   "execution_count": 173,
   "metadata": {},
   "outputs": [
    {
     "data": {
      "text/plain": [
       "0"
      ]
     },
     "execution_count": 173,
     "metadata": {},
     "output_type": "execute_result"
    }
   ],
   "source": [
    "listings['host_response_time'].isnull().sum()"
   ]
  },
  {
   "cell_type": "code",
   "execution_count": 174,
   "metadata": {},
   "outputs": [],
   "source": [
    "# host response rate - I'll create bins\n",
    "listings['host_response_rate'] = listings['host_response_rate'].fillna('0%')\n",
    "listings['host_response_rate'] = listings.host_response_rate.apply(lambda x: int(str(x).replace('%', '')))"
   ]
  },
  {
   "cell_type": "code",
   "execution_count": 175,
   "metadata": {},
   "outputs": [
    {
     "data": {
      "text/plain": [
       "count    3818.000000\n",
       "mean       81.888947\n",
       "std        34.441009\n",
       "min         0.000000\n",
       "25%        88.000000\n",
       "50%       100.000000\n",
       "75%       100.000000\n",
       "max       100.000000\n",
       "Name: host_response_rate, dtype: float64"
      ]
     },
     "execution_count": 175,
     "metadata": {},
     "output_type": "execute_result"
    }
   ],
   "source": [
    "listings['host_response_rate'].describe()"
   ]
  },
  {
   "cell_type": "code",
   "execution_count": 176,
   "metadata": {},
   "outputs": [],
   "source": [
    "def rr(row):\n",
    "    if row['host_response_rate'] == 0:\n",
    "        return 'No Data'\n",
    "    elif row['host_response_rate'] < 88:\n",
    "        return '0 - 88'\n",
    "    elif row['host_response_rate'] < 100:\n",
    "        return '88 - 99'\n",
    "    else:\n",
    "        return '100'\n",
    "    \n",
    "listings['host_response_rate'] = listings.apply(rr, axis = 1)"
   ]
  },
  {
   "cell_type": "code",
   "execution_count": 177,
   "metadata": {},
   "outputs": [
    {
     "data": {
      "text/plain": [
       "100        2371\n",
       "No Data     523\n",
       "88 - 99     513\n",
       "0 - 88      411\n",
       "Name: host_response_rate, dtype: int64"
      ]
     },
     "execution_count": 177,
     "metadata": {},
     "output_type": "execute_result"
    }
   ],
   "source": [
    "listings['host_response_rate'].value_counts()"
   ]
  },
  {
   "cell_type": "code",
   "execution_count": 178,
   "metadata": {},
   "outputs": [
    {
     "data": {
      "text/plain": [
       "Index(['host_has_profile_pic', 'host_identity_verified', 'property_type',\n",
       "       'bathrooms', 'bedrooms', 'beds'],\n",
       "      dtype='object')"
      ]
     },
     "execution_count": 178,
     "metadata": {},
     "output_type": "execute_result"
    }
   ],
   "source": [
    "listings[listings.columns[listings.isnull().mean() > .0]].columns\n"
   ]
  },
  {
   "cell_type": "code",
   "execution_count": 179,
   "metadata": {},
   "outputs": [
    {
     "data": {
      "text/plain": [
       "t    3809\n",
       "f       7\n",
       "Name: host_has_profile_pic, dtype: int64"
      ]
     },
     "execution_count": 179,
     "metadata": {},
     "output_type": "execute_result"
    }
   ],
   "source": [
    "listings.host_has_profile_pic.value_counts()"
   ]
  },
  {
   "cell_type": "code",
   "execution_count": 180,
   "metadata": {},
   "outputs": [],
   "source": [
    "listings.host_has_profile_pic = listings.host_has_profile_pic.fillna('No Data')"
   ]
  },
  {
   "cell_type": "code",
   "execution_count": 181,
   "metadata": {},
   "outputs": [
    {
     "data": {
      "text/plain": [
       "t    2997\n",
       "f     819\n",
       "Name: host_identity_verified, dtype: int64"
      ]
     },
     "execution_count": 181,
     "metadata": {},
     "output_type": "execute_result"
    }
   ],
   "source": [
    "listings.host_identity_verified.value_counts()"
   ]
  },
  {
   "cell_type": "code",
   "execution_count": 182,
   "metadata": {},
   "outputs": [],
   "source": [
    "listings.host_identity_verified = listings.host_identity_verified.fillna('No Data')"
   ]
  },
  {
   "cell_type": "code",
   "execution_count": 183,
   "metadata": {},
   "outputs": [
    {
     "data": {
      "text/plain": [
       "1"
      ]
     },
     "execution_count": 183,
     "metadata": {},
     "output_type": "execute_result"
    }
   ],
   "source": [
    "listings.property_type.isnull().sum()"
   ]
  },
  {
   "cell_type": "code",
   "execution_count": 184,
   "metadata": {},
   "outputs": [
    {
     "data": {
      "text/plain": [
       "House              1733\n",
       "Apartment          1708\n",
       "Townhouse           118\n",
       "Condominium          91\n",
       "Loft                 40\n",
       "Bed & Breakfast      37\n",
       "Other                22\n",
       "Cabin                21\n",
       "Bungalow             13\n",
       "Camper/RV            13\n",
       "Boat                  8\n",
       "Tent                  5\n",
       "Treehouse             3\n",
       "Chalet                2\n",
       "Dorm                  2\n",
       "Yurt                  1\n",
       "Name: property_type, dtype: int64"
      ]
     },
     "execution_count": 184,
     "metadata": {},
     "output_type": "execute_result"
    }
   ],
   "source": [
    "listings.property_type.value_counts()"
   ]
  },
  {
   "cell_type": "code",
   "execution_count": 185,
   "metadata": {},
   "outputs": [],
   "source": [
    "listings.property_type = listings.property_type.fillna('No Data')"
   ]
  },
  {
   "cell_type": "code",
   "execution_count": 186,
   "metadata": {},
   "outputs": [
    {
     "data": {
      "text/plain": [
       "count    3802.000000\n",
       "mean        1.259469\n",
       "std         0.590369\n",
       "min         0.000000\n",
       "25%         1.000000\n",
       "50%         1.000000\n",
       "75%         1.000000\n",
       "max         8.000000\n",
       "Name: bathrooms, dtype: float64"
      ]
     },
     "execution_count": 186,
     "metadata": {},
     "output_type": "execute_result"
    }
   ],
   "source": [
    "listings.bathrooms.describe()"
   ]
  },
  {
   "cell_type": "code",
   "execution_count": 187,
   "metadata": {},
   "outputs": [],
   "source": [
    "# Fill bathroom NAs with 0\n",
    "listings.bathrooms = listings.bathrooms.fillna(0)"
   ]
  },
  {
   "cell_type": "code",
   "execution_count": 188,
   "metadata": {},
   "outputs": [
    {
     "data": {
      "text/plain": [
       "count    3812.000000\n",
       "mean        1.307712\n",
       "std         0.883395\n",
       "min         0.000000\n",
       "25%         1.000000\n",
       "50%         1.000000\n",
       "75%         2.000000\n",
       "max         7.000000\n",
       "Name: bedrooms, dtype: float64"
      ]
     },
     "execution_count": 188,
     "metadata": {},
     "output_type": "execute_result"
    }
   ],
   "source": [
    "listings.bedrooms.describe()"
   ]
  },
  {
   "cell_type": "code",
   "execution_count": 189,
   "metadata": {},
   "outputs": [],
   "source": [
    "# Fill bedrooms NAs with 0\n",
    "listings.bedrooms = listings.bedrooms.fillna(0)"
   ]
  },
  {
   "cell_type": "code",
   "execution_count": 190,
   "metadata": {},
   "outputs": [],
   "source": [
    "# Fill Bed NAs with 0\n",
    "listings['beds'] = listings['beds'].fillna(0)"
   ]
  },
  {
   "cell_type": "code",
   "execution_count": 191,
   "metadata": {},
   "outputs": [
    {
     "data": {
      "text/plain": [
       "Index([], dtype='object')"
      ]
     },
     "execution_count": 191,
     "metadata": {},
     "output_type": "execute_result"
    }
   ],
   "source": [
    "listings[listings.columns[listings.isnull().any()]].columns"
   ]
  },
  {
   "cell_type": "code",
   "execution_count": 192,
   "metadata": {},
   "outputs": [],
   "source": [
    "listings = listings.drop(columns = ['description'])"
   ]
  },
  {
   "cell_type": "code",
   "execution_count": 193,
   "metadata": {},
   "outputs": [
    {
     "data": {
      "text/plain": [
       "array(['id', 'host_id', 'neighborhood_overview', 'notes', 'transit',\n",
       "       'host_response_time', 'host_response_rate', 'host_is_superhost',\n",
       "       'host_listings_count', 'host_has_profile_pic',\n",
       "       'host_identity_verified', 'neighbourhood_group_cleansed',\n",
       "       'property_type', 'room_type', 'accommodates', 'bathrooms',\n",
       "       'bedrooms', 'beds', 'bed_type', 'amenities', 'price',\n",
       "       'security_deposit', 'cleaning_fee', 'guests_included',\n",
       "       'minimum_nights', 'maximum_nights', 'availability_30',\n",
       "       'availability_60', 'availability_90', 'availability_365',\n",
       "       'number_of_reviews', 'review_scores_rating',\n",
       "       'review_scores_accuracy', 'review_scores_cleanliness',\n",
       "       'review_scores_checkin', 'review_scores_communication',\n",
       "       'instant_bookable', 'cancellation_policy',\n",
       "       'require_guest_profile_picture',\n",
       "       'require_guest_phone_verification',\n",
       "       'calculated_host_listings_count', 'reviews_per_month',\n",
       "       'listings_sf_null', 'host_tenure', 'Host_Seattle',\n",
       "       'host_has_about', 'Acceptance_100', 'extra_people_fee'],\n",
       "      dtype=object)"
      ]
     },
     "execution_count": 193,
     "metadata": {},
     "output_type": "execute_result"
    }
   ],
   "source": [
    "listings.columns.values"
   ]
  },
  {
   "cell_type": "markdown",
   "metadata": {},
   "source": [
    "Now that I have clean-ish data, I want to see how these features relate to the price and availability column. I'll join this dataset to the calendar."
   ]
  },
  {
   "cell_type": "code",
   "execution_count": 194,
   "metadata": {},
   "outputs": [
    {
     "data": {
      "text/html": [
       "<div>\n",
       "<style scoped>\n",
       "    .dataframe tbody tr th:only-of-type {\n",
       "        vertical-align: middle;\n",
       "    }\n",
       "\n",
       "    .dataframe tbody tr th {\n",
       "        vertical-align: top;\n",
       "    }\n",
       "\n",
       "    .dataframe thead th {\n",
       "        text-align: right;\n",
       "    }\n",
       "</style>\n",
       "<table border=\"1\" class=\"dataframe\">\n",
       "  <thead>\n",
       "    <tr style=\"text-align: right;\">\n",
       "      <th></th>\n",
       "      <th>listing_id</th>\n",
       "      <th>date</th>\n",
       "      <th>available</th>\n",
       "      <th>price</th>\n",
       "    </tr>\n",
       "  </thead>\n",
       "  <tbody>\n",
       "    <tr>\n",
       "      <th>0</th>\n",
       "      <td>241032</td>\n",
       "      <td>2016-01-04</td>\n",
       "      <td>t</td>\n",
       "      <td>$85.00</td>\n",
       "    </tr>\n",
       "    <tr>\n",
       "      <th>1</th>\n",
       "      <td>241032</td>\n",
       "      <td>2016-01-05</td>\n",
       "      <td>t</td>\n",
       "      <td>$85.00</td>\n",
       "    </tr>\n",
       "    <tr>\n",
       "      <th>2</th>\n",
       "      <td>241032</td>\n",
       "      <td>2016-01-06</td>\n",
       "      <td>f</td>\n",
       "      <td>NaN</td>\n",
       "    </tr>\n",
       "    <tr>\n",
       "      <th>3</th>\n",
       "      <td>241032</td>\n",
       "      <td>2016-01-07</td>\n",
       "      <td>f</td>\n",
       "      <td>NaN</td>\n",
       "    </tr>\n",
       "    <tr>\n",
       "      <th>4</th>\n",
       "      <td>241032</td>\n",
       "      <td>2016-01-08</td>\n",
       "      <td>f</td>\n",
       "      <td>NaN</td>\n",
       "    </tr>\n",
       "    <tr>\n",
       "      <th>5</th>\n",
       "      <td>241032</td>\n",
       "      <td>2016-01-09</td>\n",
       "      <td>f</td>\n",
       "      <td>NaN</td>\n",
       "    </tr>\n",
       "    <tr>\n",
       "      <th>6</th>\n",
       "      <td>241032</td>\n",
       "      <td>2016-01-10</td>\n",
       "      <td>f</td>\n",
       "      <td>NaN</td>\n",
       "    </tr>\n",
       "    <tr>\n",
       "      <th>7</th>\n",
       "      <td>241032</td>\n",
       "      <td>2016-01-11</td>\n",
       "      <td>f</td>\n",
       "      <td>NaN</td>\n",
       "    </tr>\n",
       "    <tr>\n",
       "      <th>8</th>\n",
       "      <td>241032</td>\n",
       "      <td>2016-01-12</td>\n",
       "      <td>f</td>\n",
       "      <td>NaN</td>\n",
       "    </tr>\n",
       "    <tr>\n",
       "      <th>9</th>\n",
       "      <td>241032</td>\n",
       "      <td>2016-01-13</td>\n",
       "      <td>t</td>\n",
       "      <td>$85.00</td>\n",
       "    </tr>\n",
       "  </tbody>\n",
       "</table>\n",
       "</div>"
      ],
      "text/plain": [
       "   listing_id        date available   price\n",
       "0      241032  2016-01-04         t  $85.00\n",
       "1      241032  2016-01-05         t  $85.00\n",
       "2      241032  2016-01-06         f     NaN\n",
       "3      241032  2016-01-07         f     NaN\n",
       "4      241032  2016-01-08         f     NaN\n",
       "5      241032  2016-01-09         f     NaN\n",
       "6      241032  2016-01-10         f     NaN\n",
       "7      241032  2016-01-11         f     NaN\n",
       "8      241032  2016-01-12         f     NaN\n",
       "9      241032  2016-01-13         t  $85.00"
      ]
     },
     "execution_count": 194,
     "metadata": {},
     "output_type": "execute_result"
    }
   ],
   "source": [
    "calendar.head(10)"
   ]
  },
  {
   "cell_type": "code",
   "execution_count": 195,
   "metadata": {},
   "outputs": [
    {
     "data": {
      "text/plain": [
       "1393570"
      ]
     },
     "execution_count": 195,
     "metadata": {},
     "output_type": "execute_result"
    }
   ],
   "source": [
    "len(calendar)"
   ]
  },
  {
   "cell_type": "code",
   "execution_count": 196,
   "metadata": {},
   "outputs": [],
   "source": [
    "# Join Data\n",
    "df = calendar.merge(listings, how = 'inner', left_on = ['listing_id'], right_on = ['id'])"
   ]
  },
  {
   "cell_type": "code",
   "execution_count": 197,
   "metadata": {},
   "outputs": [
    {
     "data": {
      "text/plain": [
       "True"
      ]
     },
     "execution_count": 197,
     "metadata": {},
     "output_type": "execute_result"
    }
   ],
   "source": [
    "# Make Sure join worked properly\n",
    "len(df) == len(calendar)"
   ]
  },
  {
   "cell_type": "code",
   "execution_count": 198,
   "metadata": {},
   "outputs": [
    {
     "data": {
      "text/plain": [
       "0"
      ]
     },
     "execution_count": 198,
     "metadata": {},
     "output_type": "execute_result"
    }
   ],
   "source": [
    "len(df[pd.isnull(df['id'])])"
   ]
  },
  {
   "cell_type": "code",
   "execution_count": 199,
   "metadata": {},
   "outputs": [],
   "source": [
    "# Looks Good"
   ]
  },
  {
   "cell_type": "code",
   "execution_count": 200,
   "metadata": {},
   "outputs": [
    {
     "data": {
      "text/html": [
       "<div>\n",
       "<style scoped>\n",
       "    .dataframe tbody tr th:only-of-type {\n",
       "        vertical-align: middle;\n",
       "    }\n",
       "\n",
       "    .dataframe tbody tr th {\n",
       "        vertical-align: top;\n",
       "    }\n",
       "\n",
       "    .dataframe thead th {\n",
       "        text-align: right;\n",
       "    }\n",
       "</style>\n",
       "<table border=\"1\" class=\"dataframe\">\n",
       "  <thead>\n",
       "    <tr style=\"text-align: right;\">\n",
       "      <th></th>\n",
       "      <th>listing_id</th>\n",
       "      <th>date</th>\n",
       "      <th>available</th>\n",
       "      <th>price_x</th>\n",
       "      <th>id</th>\n",
       "      <th>host_id</th>\n",
       "      <th>neighborhood_overview</th>\n",
       "      <th>notes</th>\n",
       "      <th>transit</th>\n",
       "      <th>host_response_time</th>\n",
       "      <th>...</th>\n",
       "      <th>require_guest_profile_picture</th>\n",
       "      <th>require_guest_phone_verification</th>\n",
       "      <th>calculated_host_listings_count</th>\n",
       "      <th>reviews_per_month</th>\n",
       "      <th>listings_sf_null</th>\n",
       "      <th>host_tenure</th>\n",
       "      <th>Host_Seattle</th>\n",
       "      <th>host_has_about</th>\n",
       "      <th>Acceptance_100</th>\n",
       "      <th>extra_people_fee</th>\n",
       "    </tr>\n",
       "  </thead>\n",
       "  <tbody>\n",
       "    <tr>\n",
       "      <th>0</th>\n",
       "      <td>241032</td>\n",
       "      <td>2016-01-04</td>\n",
       "      <td>t</td>\n",
       "      <td>$85.00</td>\n",
       "      <td>241032</td>\n",
       "      <td>956883</td>\n",
       "      <td>0</td>\n",
       "      <td>0</td>\n",
       "      <td>0</td>\n",
       "      <td>within a few hours</td>\n",
       "      <td>...</td>\n",
       "      <td>f</td>\n",
       "      <td>f</td>\n",
       "      <td>2</td>\n",
       "      <td>4.07</td>\n",
       "      <td>0</td>\n",
       "      <td>3234.0</td>\n",
       "      <td>1</td>\n",
       "      <td>1</td>\n",
       "      <td>1</td>\n",
       "      <td>$1 - $20</td>\n",
       "    </tr>\n",
       "    <tr>\n",
       "      <th>1</th>\n",
       "      <td>241032</td>\n",
       "      <td>2016-01-05</td>\n",
       "      <td>t</td>\n",
       "      <td>$85.00</td>\n",
       "      <td>241032</td>\n",
       "      <td>956883</td>\n",
       "      <td>0</td>\n",
       "      <td>0</td>\n",
       "      <td>0</td>\n",
       "      <td>within a few hours</td>\n",
       "      <td>...</td>\n",
       "      <td>f</td>\n",
       "      <td>f</td>\n",
       "      <td>2</td>\n",
       "      <td>4.07</td>\n",
       "      <td>0</td>\n",
       "      <td>3234.0</td>\n",
       "      <td>1</td>\n",
       "      <td>1</td>\n",
       "      <td>1</td>\n",
       "      <td>$1 - $20</td>\n",
       "    </tr>\n",
       "    <tr>\n",
       "      <th>2</th>\n",
       "      <td>241032</td>\n",
       "      <td>2016-01-06</td>\n",
       "      <td>f</td>\n",
       "      <td>NaN</td>\n",
       "      <td>241032</td>\n",
       "      <td>956883</td>\n",
       "      <td>0</td>\n",
       "      <td>0</td>\n",
       "      <td>0</td>\n",
       "      <td>within a few hours</td>\n",
       "      <td>...</td>\n",
       "      <td>f</td>\n",
       "      <td>f</td>\n",
       "      <td>2</td>\n",
       "      <td>4.07</td>\n",
       "      <td>0</td>\n",
       "      <td>3234.0</td>\n",
       "      <td>1</td>\n",
       "      <td>1</td>\n",
       "      <td>1</td>\n",
       "      <td>$1 - $20</td>\n",
       "    </tr>\n",
       "    <tr>\n",
       "      <th>3</th>\n",
       "      <td>241032</td>\n",
       "      <td>2016-01-07</td>\n",
       "      <td>f</td>\n",
       "      <td>NaN</td>\n",
       "      <td>241032</td>\n",
       "      <td>956883</td>\n",
       "      <td>0</td>\n",
       "      <td>0</td>\n",
       "      <td>0</td>\n",
       "      <td>within a few hours</td>\n",
       "      <td>...</td>\n",
       "      <td>f</td>\n",
       "      <td>f</td>\n",
       "      <td>2</td>\n",
       "      <td>4.07</td>\n",
       "      <td>0</td>\n",
       "      <td>3234.0</td>\n",
       "      <td>1</td>\n",
       "      <td>1</td>\n",
       "      <td>1</td>\n",
       "      <td>$1 - $20</td>\n",
       "    </tr>\n",
       "    <tr>\n",
       "      <th>4</th>\n",
       "      <td>241032</td>\n",
       "      <td>2016-01-08</td>\n",
       "      <td>f</td>\n",
       "      <td>NaN</td>\n",
       "      <td>241032</td>\n",
       "      <td>956883</td>\n",
       "      <td>0</td>\n",
       "      <td>0</td>\n",
       "      <td>0</td>\n",
       "      <td>within a few hours</td>\n",
       "      <td>...</td>\n",
       "      <td>f</td>\n",
       "      <td>f</td>\n",
       "      <td>2</td>\n",
       "      <td>4.07</td>\n",
       "      <td>0</td>\n",
       "      <td>3234.0</td>\n",
       "      <td>1</td>\n",
       "      <td>1</td>\n",
       "      <td>1</td>\n",
       "      <td>$1 - $20</td>\n",
       "    </tr>\n",
       "  </tbody>\n",
       "</table>\n",
       "<p>5 rows × 52 columns</p>\n",
       "</div>"
      ],
      "text/plain": [
       "   listing_id        date available price_x      id  host_id  \\\n",
       "0      241032  2016-01-04         t  $85.00  241032   956883   \n",
       "1      241032  2016-01-05         t  $85.00  241032   956883   \n",
       "2      241032  2016-01-06         f     NaN  241032   956883   \n",
       "3      241032  2016-01-07         f     NaN  241032   956883   \n",
       "4      241032  2016-01-08         f     NaN  241032   956883   \n",
       "\n",
       "   neighborhood_overview  notes  transit  host_response_time  \\\n",
       "0                      0      0        0  within a few hours   \n",
       "1                      0      0        0  within a few hours   \n",
       "2                      0      0        0  within a few hours   \n",
       "3                      0      0        0  within a few hours   \n",
       "4                      0      0        0  within a few hours   \n",
       "\n",
       "         ...        require_guest_profile_picture  \\\n",
       "0        ...                                    f   \n",
       "1        ...                                    f   \n",
       "2        ...                                    f   \n",
       "3        ...                                    f   \n",
       "4        ...                                    f   \n",
       "\n",
       "  require_guest_phone_verification calculated_host_listings_count  \\\n",
       "0                                f                              2   \n",
       "1                                f                              2   \n",
       "2                                f                              2   \n",
       "3                                f                              2   \n",
       "4                                f                              2   \n",
       "\n",
       "  reviews_per_month listings_sf_null host_tenure Host_Seattle host_has_about  \\\n",
       "0              4.07                0      3234.0            1              1   \n",
       "1              4.07                0      3234.0            1              1   \n",
       "2              4.07                0      3234.0            1              1   \n",
       "3              4.07                0      3234.0            1              1   \n",
       "4              4.07                0      3234.0            1              1   \n",
       "\n",
       "   Acceptance_100  extra_people_fee  \n",
       "0               1          $1 - $20  \n",
       "1               1          $1 - $20  \n",
       "2               1          $1 - $20  \n",
       "3               1          $1 - $20  \n",
       "4               1          $1 - $20  \n",
       "\n",
       "[5 rows x 52 columns]"
      ]
     },
     "execution_count": 200,
     "metadata": {},
     "output_type": "execute_result"
    }
   ],
   "source": [
    "df.head()"
   ]
  },
  {
   "cell_type": "code",
   "execution_count": 201,
   "metadata": {},
   "outputs": [
    {
     "data": {
      "text/plain": [
       "(3818, 48)"
      ]
     },
     "execution_count": 201,
     "metadata": {},
     "output_type": "execute_result"
    }
   ],
   "source": [
    "listings.shape"
   ]
  },
  {
   "cell_type": "code",
   "execution_count": 202,
   "metadata": {},
   "outputs": [
    {
     "data": {
      "text/plain": [
       "3818"
      ]
     },
     "execution_count": 202,
     "metadata": {},
     "output_type": "execute_result"
    }
   ],
   "source": [
    "len(listings.id.unique())"
   ]
  },
  {
   "cell_type": "code",
   "execution_count": 203,
   "metadata": {},
   "outputs": [
    {
     "data": {
      "text/plain": [
       "'2017-01-02'"
      ]
     },
     "execution_count": 203,
     "metadata": {},
     "output_type": "execute_result"
    }
   ],
   "source": [
    "calendar.date.max()"
   ]
  },
  {
   "cell_type": "code",
   "execution_count": 204,
   "metadata": {},
   "outputs": [],
   "source": [
    "'''Need to properly label price columns - I assume that the price in the listing dataframe represents the final price\n",
    "when the data was scrapped. The price in the calendar column will be much more useful then. I'll rename these columns'''\n",
    "df = df.rename(columns = {'price_x':'price', 'price_y': 'last_price'})"
   ]
  },
  {
   "cell_type": "code",
   "execution_count": 205,
   "metadata": {},
   "outputs": [],
   "source": [
    "# Make price numeric\n",
    "df.price = df.price.apply(lambda x: float(str(x).replace('$', '').replace(',', '')))"
   ]
  },
  {
   "cell_type": "code",
   "execution_count": 206,
   "metadata": {},
   "outputs": [
    {
     "data": {
      "text/html": [
       "<div>\n",
       "<style scoped>\n",
       "    .dataframe tbody tr th:only-of-type {\n",
       "        vertical-align: middle;\n",
       "    }\n",
       "\n",
       "    .dataframe tbody tr th {\n",
       "        vertical-align: top;\n",
       "    }\n",
       "\n",
       "    .dataframe thead th {\n",
       "        text-align: right;\n",
       "    }\n",
       "</style>\n",
       "<table border=\"1\" class=\"dataframe\">\n",
       "  <thead>\n",
       "    <tr style=\"text-align: right;\">\n",
       "      <th></th>\n",
       "      <th>listing_id</th>\n",
       "      <th>avg. price</th>\n",
       "    </tr>\n",
       "  </thead>\n",
       "  <tbody>\n",
       "    <tr>\n",
       "      <th>0</th>\n",
       "      <td>3335</td>\n",
       "      <td>120.000000</td>\n",
       "    </tr>\n",
       "    <tr>\n",
       "      <th>1</th>\n",
       "      <td>4291</td>\n",
       "      <td>82.000000</td>\n",
       "    </tr>\n",
       "    <tr>\n",
       "      <th>2</th>\n",
       "      <td>5682</td>\n",
       "      <td>53.944984</td>\n",
       "    </tr>\n",
       "    <tr>\n",
       "      <th>3</th>\n",
       "      <td>6606</td>\n",
       "      <td>92.849315</td>\n",
       "    </tr>\n",
       "    <tr>\n",
       "      <th>4</th>\n",
       "      <td>7369</td>\n",
       "      <td>85.000000</td>\n",
       "    </tr>\n",
       "  </tbody>\n",
       "</table>\n",
       "</div>"
      ],
      "text/plain": [
       "   listing_id  avg. price\n",
       "0        3335  120.000000\n",
       "1        4291   82.000000\n",
       "2        5682   53.944984\n",
       "3        6606   92.849315\n",
       "4        7369   85.000000"
      ]
     },
     "execution_count": 206,
     "metadata": {},
     "output_type": "execute_result"
    }
   ],
   "source": [
    "avg_price = df.groupby(['listing_id'])['price'].mean().reset_index().rename(columns = {'price':'avg. price'})\n",
    "avg_price.head()"
   ]
  },
  {
   "cell_type": "code",
   "execution_count": 207,
   "metadata": {},
   "outputs": [
    {
     "data": {
      "text/plain": [
       "listing_id     0\n",
       "avg. price    95\n",
       "dtype: int64"
      ]
     },
     "execution_count": 207,
     "metadata": {},
     "output_type": "execute_result"
    }
   ],
   "source": [
    "avg_price.isnull().sum()"
   ]
  },
  {
   "cell_type": "code",
   "execution_count": 208,
   "metadata": {},
   "outputs": [],
   "source": [
    "# Transform availability column\n",
    "df['available'] = df['available'].apply(lambda x: 1 if x == 't' else 0)"
   ]
  },
  {
   "cell_type": "code",
   "execution_count": 209,
   "metadata": {},
   "outputs": [
    {
     "data": {
      "text/plain": [
       "[107046, 284813, 445199, 777159, 1030411]"
      ]
     },
     "execution_count": 209,
     "metadata": {},
     "output_type": "execute_result"
    }
   ],
   "source": [
    "# why are there nulls on avg. price?\n",
    "check_lst = list(avg_price[pd.isnull(avg_price['avg. price'])][['listing_id']]['listing_id'])\n",
    "check_lst[0:5]"
   ]
  },
  {
   "cell_type": "code",
   "execution_count": 210,
   "metadata": {},
   "outputs": [
    {
     "data": {
      "text/plain": [
       "[]"
      ]
     },
     "execution_count": 210,
     "metadata": {},
     "output_type": "execute_result"
    }
   ],
   "source": [
    "count = []\n",
    "for i in check_lst:\n",
    "    if df[df['listing_id'] == i][['price', 'available']].available.sum() > 0:\n",
    "        count.append(i)\n",
    "    else:\n",
    "        pass\n",
    "count"
   ]
  },
  {
   "cell_type": "markdown",
   "metadata": {},
   "source": [
    "So there are a number of listings that were not rented all year long. I'll have to decide how to handle these."
   ]
  },
  {
   "cell_type": "code",
   "execution_count": 211,
   "metadata": {},
   "outputs": [
    {
     "name": "stdout",
     "output_type": "stream",
     "text": [
      "price    0.0\n",
      "dtype: float64\n"
     ]
    },
    {
     "data": {
      "text/html": [
       "<div>\n",
       "<style scoped>\n",
       "    .dataframe tbody tr th:only-of-type {\n",
       "        vertical-align: middle;\n",
       "    }\n",
       "\n",
       "    .dataframe tbody tr th {\n",
       "        vertical-align: top;\n",
       "    }\n",
       "\n",
       "    .dataframe thead th {\n",
       "        text-align: right;\n",
       "    }\n",
       "</style>\n",
       "<table border=\"1\" class=\"dataframe\">\n",
       "  <thead>\n",
       "    <tr style=\"text-align: right;\">\n",
       "      <th></th>\n",
       "      <th>last_price</th>\n",
       "    </tr>\n",
       "  </thead>\n",
       "  <tbody>\n",
       "    <tr>\n",
       "      <th>897170</th>\n",
       "      <td>$280.00</td>\n",
       "    </tr>\n",
       "    <tr>\n",
       "      <th>897171</th>\n",
       "      <td>$280.00</td>\n",
       "    </tr>\n",
       "    <tr>\n",
       "      <th>897172</th>\n",
       "      <td>$280.00</td>\n",
       "    </tr>\n",
       "    <tr>\n",
       "      <th>897173</th>\n",
       "      <td>$280.00</td>\n",
       "    </tr>\n",
       "    <tr>\n",
       "      <th>897174</th>\n",
       "      <td>$280.00</td>\n",
       "    </tr>\n",
       "  </tbody>\n",
       "</table>\n",
       "</div>"
      ],
      "text/plain": [
       "       last_price\n",
       "897170    $280.00\n",
       "897171    $280.00\n",
       "897172    $280.00\n",
       "897173    $280.00\n",
       "897174    $280.00"
      ]
     },
     "execution_count": 211,
     "metadata": {},
     "output_type": "execute_result"
    }
   ],
   "source": [
    "print(df[df['listing_id'] == 107046][['price']].sum())\n",
    "df[df['listing_id'] == 107046][['last_price']].head()"
   ]
  },
  {
   "cell_type": "code",
   "execution_count": 212,
   "metadata": {},
   "outputs": [
    {
     "name": "stdout",
     "output_type": "stream",
     "text": [
      "price    0.0\n",
      "dtype: float64\n"
     ]
    },
    {
     "data": {
      "text/html": [
       "<div>\n",
       "<style scoped>\n",
       "    .dataframe tbody tr th:only-of-type {\n",
       "        vertical-align: middle;\n",
       "    }\n",
       "\n",
       "    .dataframe tbody tr th {\n",
       "        vertical-align: top;\n",
       "    }\n",
       "\n",
       "    .dataframe thead th {\n",
       "        text-align: right;\n",
       "    }\n",
       "</style>\n",
       "<table border=\"1\" class=\"dataframe\">\n",
       "  <thead>\n",
       "    <tr style=\"text-align: right;\">\n",
       "      <th></th>\n",
       "      <th>last_price</th>\n",
       "    </tr>\n",
       "  </thead>\n",
       "  <tbody>\n",
       "    <tr>\n",
       "      <th>832565</th>\n",
       "      <td>$150.00</td>\n",
       "    </tr>\n",
       "    <tr>\n",
       "      <th>832566</th>\n",
       "      <td>$150.00</td>\n",
       "    </tr>\n",
       "    <tr>\n",
       "      <th>832567</th>\n",
       "      <td>$150.00</td>\n",
       "    </tr>\n",
       "    <tr>\n",
       "      <th>832568</th>\n",
       "      <td>$150.00</td>\n",
       "    </tr>\n",
       "    <tr>\n",
       "      <th>832569</th>\n",
       "      <td>$150.00</td>\n",
       "    </tr>\n",
       "  </tbody>\n",
       "</table>\n",
       "</div>"
      ],
      "text/plain": [
       "       last_price\n",
       "832565    $150.00\n",
       "832566    $150.00\n",
       "832567    $150.00\n",
       "832568    $150.00\n",
       "832569    $150.00"
      ]
     },
     "execution_count": 212,
     "metadata": {},
     "output_type": "execute_result"
    }
   ],
   "source": [
    "print(df[df['listing_id'] == 777159][['price']].sum())\n",
    "df[df['listing_id'] == 777159][['last_price']].head()"
   ]
  },
  {
   "cell_type": "markdown",
   "metadata": {},
   "source": [
    "### Answering Business Questions"
   ]
  },
  {
   "cell_type": "markdown",
   "metadata": {},
   "source": [
    "### When are the prices in Seattle the highest? When are they the lowest?"
   ]
  },
  {
   "cell_type": "code",
   "execution_count": 213,
   "metadata": {},
   "outputs": [
    {
     "data": {
      "text/plain": [
       "'2016-01-04'"
      ]
     },
     "execution_count": 213,
     "metadata": {},
     "output_type": "execute_result"
    }
   ],
   "source": [
    "df.date.min()"
   ]
  },
  {
   "cell_type": "code",
   "execution_count": 214,
   "metadata": {},
   "outputs": [
    {
     "data": {
      "text/plain": [
       "'2017-01-02'"
      ]
     },
     "execution_count": 214,
     "metadata": {},
     "output_type": "execute_result"
    }
   ],
   "source": [
    "df.date.max()"
   ]
  },
  {
   "cell_type": "code",
   "execution_count": 215,
   "metadata": {},
   "outputs": [],
   "source": [
    "# I'm going to chop off th records from 2017, and only look at 2016 as a whole\n",
    "df['date'] = pd.to_datetime(df['date'])\n",
    "df = df[df['date'] < '2017-01-01']"
   ]
  },
  {
   "cell_type": "code",
   "execution_count": 216,
   "metadata": {},
   "outputs": [
    {
     "data": {
      "text/html": [
       "<div>\n",
       "<style scoped>\n",
       "    .dataframe tbody tr th:only-of-type {\n",
       "        vertical-align: middle;\n",
       "    }\n",
       "\n",
       "    .dataframe tbody tr th {\n",
       "        vertical-align: top;\n",
       "    }\n",
       "\n",
       "    .dataframe thead th {\n",
       "        text-align: right;\n",
       "    }\n",
       "</style>\n",
       "<table border=\"1\" class=\"dataframe\">\n",
       "  <thead>\n",
       "    <tr style=\"text-align: right;\">\n",
       "      <th></th>\n",
       "      <th>date</th>\n",
       "      <th>price</th>\n",
       "      <th>available</th>\n",
       "    </tr>\n",
       "  </thead>\n",
       "  <tbody>\n",
       "    <tr>\n",
       "      <th>0</th>\n",
       "      <td>2016-01-04</td>\n",
       "      <td>85.0</td>\n",
       "      <td>1</td>\n",
       "    </tr>\n",
       "    <tr>\n",
       "      <th>1</th>\n",
       "      <td>2016-01-05</td>\n",
       "      <td>85.0</td>\n",
       "      <td>1</td>\n",
       "    </tr>\n",
       "    <tr>\n",
       "      <th>2</th>\n",
       "      <td>2016-01-06</td>\n",
       "      <td>NaN</td>\n",
       "      <td>0</td>\n",
       "    </tr>\n",
       "    <tr>\n",
       "      <th>3</th>\n",
       "      <td>2016-01-07</td>\n",
       "      <td>NaN</td>\n",
       "      <td>0</td>\n",
       "    </tr>\n",
       "    <tr>\n",
       "      <th>4</th>\n",
       "      <td>2016-01-08</td>\n",
       "      <td>NaN</td>\n",
       "      <td>0</td>\n",
       "    </tr>\n",
       "  </tbody>\n",
       "</table>\n",
       "</div>"
      ],
      "text/plain": [
       "        date  price  available\n",
       "0 2016-01-04   85.0          1\n",
       "1 2016-01-05   85.0          1\n",
       "2 2016-01-06    NaN          0\n",
       "3 2016-01-07    NaN          0\n",
       "4 2016-01-08    NaN          0"
      ]
     },
     "execution_count": 216,
     "metadata": {},
     "output_type": "execute_result"
    }
   ],
   "source": [
    "df[['date', 'price', 'available']].head()"
   ]
  },
  {
   "cell_type": "code",
   "execution_count": 217,
   "metadata": {},
   "outputs": [],
   "source": [
    "# Create copy of dataframe with date as the index\n",
    "df2 = df.copy()\n",
    "df2.index = df2['date']"
   ]
  },
  {
   "cell_type": "code",
   "execution_count": 218,
   "metadata": {},
   "outputs": [
    {
     "data": {
      "text/html": [
       "<div>\n",
       "<style scoped>\n",
       "    .dataframe tbody tr th:only-of-type {\n",
       "        vertical-align: middle;\n",
       "    }\n",
       "\n",
       "    .dataframe tbody tr th {\n",
       "        vertical-align: top;\n",
       "    }\n",
       "\n",
       "    .dataframe thead th {\n",
       "        text-align: right;\n",
       "    }\n",
       "</style>\n",
       "<table border=\"1\" class=\"dataframe\">\n",
       "  <thead>\n",
       "    <tr style=\"text-align: right;\">\n",
       "      <th></th>\n",
       "      <th>price</th>\n",
       "    </tr>\n",
       "    <tr>\n",
       "      <th>date</th>\n",
       "      <th></th>\n",
       "    </tr>\n",
       "  </thead>\n",
       "  <tbody>\n",
       "    <tr>\n",
       "      <th>2016-01-31</th>\n",
       "      <td>59239</td>\n",
       "    </tr>\n",
       "    <tr>\n",
       "      <th>2016-02-29</th>\n",
       "      <td>73321</td>\n",
       "    </tr>\n",
       "    <tr>\n",
       "      <th>2016-03-31</th>\n",
       "      <td>83938</td>\n",
       "    </tr>\n",
       "    <tr>\n",
       "      <th>2016-04-30</th>\n",
       "      <td>76037</td>\n",
       "    </tr>\n",
       "    <tr>\n",
       "      <th>2016-05-31</th>\n",
       "      <td>79971</td>\n",
       "    </tr>\n",
       "    <tr>\n",
       "      <th>2016-06-30</th>\n",
       "      <td>77244</td>\n",
       "    </tr>\n",
       "    <tr>\n",
       "      <th>2016-07-31</th>\n",
       "      <td>74222</td>\n",
       "    </tr>\n",
       "    <tr>\n",
       "      <th>2016-08-31</th>\n",
       "      <td>76347</td>\n",
       "    </tr>\n",
       "    <tr>\n",
       "      <th>2016-09-30</th>\n",
       "      <td>77246</td>\n",
       "    </tr>\n",
       "    <tr>\n",
       "      <th>2016-10-31</th>\n",
       "      <td>82438</td>\n",
       "    </tr>\n",
       "    <tr>\n",
       "      <th>2016-11-30</th>\n",
       "      <td>81780</td>\n",
       "    </tr>\n",
       "    <tr>\n",
       "      <th>2016-12-31</th>\n",
       "      <td>87061</td>\n",
       "    </tr>\n",
       "  </tbody>\n",
       "</table>\n",
       "</div>"
      ],
      "text/plain": [
       "            price\n",
       "date             \n",
       "2016-01-31  59239\n",
       "2016-02-29  73321\n",
       "2016-03-31  83938\n",
       "2016-04-30  76037\n",
       "2016-05-31  79971\n",
       "2016-06-30  77244\n",
       "2016-07-31  74222\n",
       "2016-08-31  76347\n",
       "2016-09-30  77246\n",
       "2016-10-31  82438\n",
       "2016-11-30  81780\n",
       "2016-12-31  87061"
      ]
     },
     "execution_count": 218,
     "metadata": {},
     "output_type": "execute_result"
    }
   ],
   "source": [
    "# Plot value counts by month\n",
    "df2[['price']].resample('m').count()"
   ]
  },
  {
   "cell_type": "code",
   "execution_count": 219,
   "metadata": {},
   "outputs": [
    {
     "data": {
      "text/plain": [
       "<matplotlib.axes._subplots.AxesSubplot at 0x16f9cc76908>"
      ]
     },
     "execution_count": 219,
     "metadata": {},
     "output_type": "execute_result"
    },
    {
     "data": {
      "image/png": "[encoded data removed]",
      "text/plain": [
       "<Figure size 432x288 with 1 Axes>"
      ]
     },
     "metadata": {},
     "output_type": "display_data"
    }
   ],
   "source": [
    "df2[['price']].resample('m').count().plot()"
   ]
  },
  {
   "cell_type": "code",
   "execution_count": 220,
   "metadata": {},
   "outputs": [
    {
     "data": {
      "text/html": [
       "<div>\n",
       "<style scoped>\n",
       "    .dataframe tbody tr th:only-of-type {\n",
       "        vertical-align: middle;\n",
       "    }\n",
       "\n",
       "    .dataframe tbody tr th {\n",
       "        vertical-align: top;\n",
       "    }\n",
       "\n",
       "    .dataframe thead th {\n",
       "        text-align: right;\n",
       "    }\n",
       "</style>\n",
       "<table border=\"1\" class=\"dataframe\">\n",
       "  <thead>\n",
       "    <tr style=\"text-align: right;\">\n",
       "      <th></th>\n",
       "      <th>price</th>\n",
       "    </tr>\n",
       "    <tr>\n",
       "      <th>date</th>\n",
       "      <th></th>\n",
       "    </tr>\n",
       "  </thead>\n",
       "  <tbody>\n",
       "    <tr>\n",
       "      <th>2016-01-31</th>\n",
       "      <td>121.568409</td>\n",
       "    </tr>\n",
       "    <tr>\n",
       "      <th>2016-02-29</th>\n",
       "      <td>124.293927</td>\n",
       "    </tr>\n",
       "    <tr>\n",
       "      <th>2016-03-31</th>\n",
       "      <td>128.644488</td>\n",
       "    </tr>\n",
       "    <tr>\n",
       "      <th>2016-04-30</th>\n",
       "      <td>135.097005</td>\n",
       "    </tr>\n",
       "    <tr>\n",
       "      <th>2016-05-31</th>\n",
       "      <td>139.538183</td>\n",
       "    </tr>\n",
       "    <tr>\n",
       "      <th>2016-06-30</th>\n",
       "      <td>147.473137</td>\n",
       "    </tr>\n",
       "    <tr>\n",
       "      <th>2016-07-31</th>\n",
       "      <td>152.094150</td>\n",
       "    </tr>\n",
       "    <tr>\n",
       "      <th>2016-08-31</th>\n",
       "      <td>150.656594</td>\n",
       "    </tr>\n",
       "    <tr>\n",
       "      <th>2016-09-30</th>\n",
       "      <td>143.255949</td>\n",
       "    </tr>\n",
       "    <tr>\n",
       "      <th>2016-10-31</th>\n",
       "      <td>137.031939</td>\n",
       "    </tr>\n",
       "    <tr>\n",
       "      <th>2016-11-30</th>\n",
       "      <td>135.688738</td>\n",
       "    </tr>\n",
       "    <tr>\n",
       "      <th>2016-12-31</th>\n",
       "      <td>137.251835</td>\n",
       "    </tr>\n",
       "  </tbody>\n",
       "</table>\n",
       "</div>"
      ],
      "text/plain": [
       "                 price\n",
       "date                  \n",
       "2016-01-31  121.568409\n",
       "2016-02-29  124.293927\n",
       "2016-03-31  128.644488\n",
       "2016-04-30  135.097005\n",
       "2016-05-31  139.538183\n",
       "2016-06-30  147.473137\n",
       "2016-07-31  152.094150\n",
       "2016-08-31  150.656594\n",
       "2016-09-30  143.255949\n",
       "2016-10-31  137.031939\n",
       "2016-11-30  135.688738\n",
       "2016-12-31  137.251835"
      ]
     },
     "execution_count": 220,
     "metadata": {},
     "output_type": "execute_result"
    }
   ],
   "source": [
    "df2[['price']].resample('m').mean()"
   ]
  },
  {
   "cell_type": "code",
   "execution_count": 221,
   "metadata": {},
   "outputs": [
    {
     "data": {
      "text/plain": [
       "<matplotlib.axes._subplots.AxesSubplot at 0x16f9e830518>"
      ]
     },
     "execution_count": 221,
     "metadata": {},
     "output_type": "execute_result"
    },
    {
     "data": {
      "image/png": "[encoded data removed]",
      "text/plain": [
       "<Figure size 432x288 with 1 Axes>"
      ]
     },
     "metadata": {},
     "output_type": "display_data"
    }
   ],
   "source": [
    "# Plot mean price by month\n",
    "df2[['price']].resample('m').mean().plot()"
   ]
  },
  {
   "cell_type": "code",
   "execution_count": 222,
   "metadata": {},
   "outputs": [
    {
     "data": {
      "text/plain": [
       "137.95137504252597"
      ]
     },
     "execution_count": 222,
     "metadata": {},
     "output_type": "execute_result"
    }
   ],
   "source": [
    "df2['price'].mean()"
   ]
  },
  {
   "cell_type": "code",
   "execution_count": 223,
   "metadata": {},
   "outputs": [],
   "source": [
    "### In 2016, the average price was greatest in the summer, with a high of $152 in July. \n",
    "### It was lowest in the winter, with a low of $121 per listing in January.\n",
    "# the average across all listings was about $138 per listing."
   ]
  },
  {
   "cell_type": "markdown",
   "metadata": {},
   "source": [
    "### How do the prices vary by property type?"
   ]
  },
  {
   "cell_type": "code",
   "execution_count": 224,
   "metadata": {},
   "outputs": [
    {
     "data": {
      "text/plain": [
       "property_type\n",
       "Dorm                39.383886\n",
       "Tent                57.563510\n",
       "Treehouse           64.423019\n",
       "Chalet              93.478852\n",
       "Yurt               105.423729\n",
       "Other              106.436487\n",
       "Cabin              114.279945\n",
       "Bed & Breakfast    116.041101\n",
       "No Data            120.000000\n",
       "Bungalow           124.203766\n",
       "Camper/RV          127.017931\n",
       "Townhouse          132.841266\n",
       "Loft               133.506865\n",
       "House              136.611088\n",
       "Apartment          139.333203\n",
       "Condominium        169.540366\n",
       "Boat               330.743034\n",
       "Name: price, dtype: float64"
      ]
     },
     "execution_count": 224,
     "metadata": {},
     "output_type": "execute_result"
    }
   ],
   "source": [
    "# Average price by property type\n",
    "df.groupby(['property_type'])['price'].mean().sort_values()"
   ]
  },
  {
   "cell_type": "markdown",
   "metadata": {},
   "source": [
    "We can see here that the most expensive propery types are boat, condominium, apartment and house.\n",
    "The least expensive are dorm, tent and treehouse."
   ]
  },
  {
   "cell_type": "code",
   "execution_count": 225,
   "metadata": {},
   "outputs": [
    {
     "data": {
      "text/plain": [
       "House              1733\n",
       "Apartment          1708\n",
       "Townhouse           118\n",
       "Condominium          91\n",
       "Loft                 40\n",
       "Bed & Breakfast      37\n",
       "Other                22\n",
       "Cabin                21\n",
       "Bungalow             13\n",
       "Camper/RV            13\n",
       "Boat                  8\n",
       "Tent                  5\n",
       "Treehouse             3\n",
       "Dorm                  2\n",
       "Chalet                2\n",
       "Yurt                  1\n",
       "No Data               1\n",
       "Name: property_type, dtype: int64"
      ]
     },
     "execution_count": 225,
     "metadata": {},
     "output_type": "execute_result"
    }
   ],
   "source": [
    "# Most common propety types\n",
    "listings['property_type'].value_counts()"
   ]
  },
  {
   "cell_type": "code",
   "execution_count": 226,
   "metadata": {},
   "outputs": [],
   "source": [
    "# Create month of date column\n",
    "df['month'] = pd.DatetimeIndex(df['date']).month"
   ]
  },
  {
   "cell_type": "code",
   "execution_count": 227,
   "metadata": {},
   "outputs": [
    {
     "data": {
      "text/plain": [
       "property_type  month\n",
       "House          1        119.421669\n",
       "Townhouse      1        119.563996\n",
       "               2        120.408198\n",
       "House          2        121.592044\n",
       "Apartment      1        122.334342\n",
       "Townhouse      3        123.002322\n",
       "House          3        123.975961\n",
       "Apartment      2        125.130166\n",
       "Townhouse      4        126.506679\n",
       "Apartment      11       130.777340\n",
       "Townhouse      5        131.533953\n",
       "House          4        132.145898\n",
       "Apartment      3        132.285559\n",
       "               12       132.572962\n",
       "               10       133.534631\n",
       "House          5        135.515893\n",
       "Townhouse      10       135.537964\n",
       "               11       136.187899\n",
       "               6        136.441546\n",
       "               9        137.237736\n",
       "Apartment      4        137.870782\n",
       "House          11       139.901386\n",
       "               10       140.051861\n",
       "Townhouse      8        140.207875\n",
       "House          12       141.071231\n",
       "               6        141.661751\n",
       "Townhouse      12       142.593499\n",
       "Apartment      9        142.799941\n",
       "Townhouse      7        143.721060\n",
       "Apartment      5        143.790831\n",
       "House          9        144.233739\n",
       "               8        147.204058\n",
       "               7        147.690185\n",
       "Condominium    1        153.328737\n",
       "Apartment      6        154.975218\n",
       "               8        156.419095\n",
       "               7        158.577590\n",
       "Condominium    10       167.180870\n",
       "               9        168.425518\n",
       "               3        168.587354\n",
       "               2        168.622931\n",
       "               11       168.687138\n",
       "               6        169.098592\n",
       "               12       170.885714\n",
       "               8        171.361242\n",
       "               7        173.053457\n",
       "               5        175.566085\n",
       "               4        178.923920\n",
       "Name: price, dtype: float64"
      ]
     },
     "execution_count": 227,
     "metadata": {},
     "output_type": "execute_result"
    }
   ],
   "source": [
    "# Average price for common property types\n",
    "df[df['property_type'].isin(['House', 'Apartment', 'Townhouse', 'Condominium'])].groupby(['property_type', 'month'])['price'].mean().sort_values()"
   ]
  },
  {
   "cell_type": "code",
   "execution_count": 228,
   "metadata": {},
   "outputs": [],
   "source": [
    "# A House in January is the least expensive on average.\n",
    "# Condominiums tend to be more expensive than other units."
   ]
  },
  {
   "cell_type": "markdown",
   "metadata": {},
   "source": [
    "### What kind of hosts have good at bad reviews?"
   ]
  },
  {
   "cell_type": "code",
   "execution_count": 230,
   "metadata": {},
   "outputs": [
    {
     "data": {
      "text/plain": [
       "0    Review Score 95 - 100\n",
       "1    Review Score 95 - 100\n",
       "2    Review Score 95 - 100\n",
       "3          No Review Score\n",
       "4       Review Score 90-94\n",
       "Name: review_scores_rating, dtype: object"
      ]
     },
     "execution_count": 230,
     "metadata": {},
     "output_type": "execute_result"
    }
   ],
   "source": [
    "listings.review_scores_rating.head()"
   ]
  },
  {
   "cell_type": "code",
   "execution_count": 231,
   "metadata": {},
   "outputs": [],
   "source": [
    "# I'm going to redownload the raw listings data in order to answer a few questions\n",
    "df_list = pd.read_csv('listings.csv')"
   ]
  },
  {
   "cell_type": "code",
   "execution_count": 233,
   "metadata": {},
   "outputs": [],
   "source": [
    "# Create new dataframe with number of listings per host\n",
    "hosts = df_list.groupby(['host_id'])['id'].count().reset_index().rename(columns = {'id':'listings_counts'})"
   ]
  },
  {
   "cell_type": "code",
   "execution_count": 234,
   "metadata": {},
   "outputs": [],
   "source": [
    "# Join to relevant dataframes\n",
    "df_list = df_list.merge(hosts, how = 'inner', on = ['host_id'])\n",
    "listings = listings.merge(hosts, how = 'inner', on = ['host_id'])\n",
    "df = df.merge(hosts, how = 'inner', on = ['host_id'])\n",
    "df2 = df2.merge(hosts, how = 'inner', on = ['host_id'])"
   ]
  },
  {
   "cell_type": "code",
   "execution_count": 235,
   "metadata": {},
   "outputs": [
    {
     "name": "stdout",
     "output_type": "stream",
     "text": [
      "There are 2751 unique hosts.\n"
     ]
    }
   ],
   "source": [
    "# How many unique hosts are there?\n",
    "print('There are {} unique hosts.'.format(len(hosts)))"
   ]
  },
  {
   "cell_type": "code",
   "execution_count": 236,
   "metadata": {},
   "outputs": [
    {
     "data": {
      "text/plain": [
       "466"
      ]
     },
     "execution_count": 236,
     "metadata": {},
     "output_type": "execute_result"
    }
   ],
   "source": [
    "# How many hosts have more than one listing?\n",
    "len(hosts[hosts['listings_counts'] > 1])"
   ]
  },
  {
   "cell_type": "code",
   "execution_count": 237,
   "metadata": {},
   "outputs": [],
   "source": [
    "# Do hosts with more than one unit have better reviews?\n",
    "df_list['host_multiple'] = df_list['listings_counts'].apply(lambda x: 'Multiple Listings' if x > 1 else 'One Listing')"
   ]
  },
  {
   "cell_type": "code",
   "execution_count": 238,
   "metadata": {},
   "outputs": [
    {
     "data": {
      "text/plain": [
       "host_multiple\n",
       "Multiple Listings    93.611360\n",
       "One Listing          95.216585\n",
       "Name: review_scores_rating, dtype: float64"
      ]
     },
     "execution_count": 238,
     "metadata": {},
     "output_type": "execute_result"
    }
   ],
   "source": [
    "# Mean Review Score by if host has multiple units\n",
    "df_list.groupby(['host_multiple'])['review_scores_rating'].mean()"
   ]
  },
  {
   "cell_type": "markdown",
   "metadata": {},
   "source": [
    "Host who have only one listing tend to be slightly better rated."
   ]
  },
  {
   "cell_type": "code",
   "execution_count": 239,
   "metadata": {},
   "outputs": [],
   "source": [
    "# Attach Review scores rating onto main dataframe\n",
    "rate = df_list[['id', 'review_scores_rating']].rename(columns = {'review_scores_rating': 'review_scores_rating_raw'})\n",
    "df = df.merge(rate, how = 'inner', left_on = ['listing_id'], right_on = ['id'])\n",
    "df = df.drop(columns = ['id_y'])\n",
    "df = df.rename(columns = {'id_x': 'id'})"
   ]
  },
  {
   "cell_type": "code",
   "execution_count": 240,
   "metadata": {},
   "outputs": [
    {
     "data": {
      "text/plain": [
       "Host_Seattle\n",
       "0    93.753316\n",
       "1    94.645311\n",
       "Name: review_scores_rating_raw, dtype: float64"
      ]
     },
     "execution_count": 240,
     "metadata": {},
     "output_type": "execute_result"
    }
   ],
   "source": [
    "df.groupby(['Host_Seattle'])['review_scores_rating_raw'].mean()"
   ]
  },
  {
   "cell_type": "markdown",
   "metadata": {},
   "source": [
    "No significant difference between hosts in seattle and outside seattle"
   ]
  },
  {
   "cell_type": "code",
   "execution_count": 241,
   "metadata": {},
   "outputs": [
    {
     "data": {
      "text/plain": [
       "host_response_time\n",
       "No Data               94.583333\n",
       "a few days or more    87.793103\n",
       "within a day          94.264831\n",
       "within a few hours    93.812425\n",
       "within an hour        95.143984\n",
       "Name: review_scores_rating_raw, dtype: float64"
      ]
     },
     "execution_count": 241,
     "metadata": {},
     "output_type": "execute_result"
    }
   ],
   "source": [
    "# Is host response time coorelated with reviews?\n",
    "df.groupby(['host_response_time'])['review_scores_rating_raw'].mean()"
   ]
  },
  {
   "cell_type": "markdown",
   "metadata": {},
   "source": [
    "The hosts who take a few days to respond have significantly worse scores."
   ]
  },
  {
   "cell_type": "code",
   "execution_count": 242,
   "metadata": {},
   "outputs": [
    {
     "data": {
      "text/plain": [
       "host_response_rate\n",
       "0 - 88     91.647929\n",
       "100        95.277885\n",
       "88 - 99    93.240363\n",
       "No Data    94.583333\n",
       "Name: review_scores_rating_raw, dtype: float64"
      ]
     },
     "execution_count": 242,
     "metadata": {},
     "output_type": "execute_result"
    }
   ],
   "source": [
    "# Is host response rate coorelated with reviews?\n",
    "df.groupby(['host_response_rate'])['review_scores_rating_raw'].mean()"
   ]
  },
  {
   "cell_type": "markdown",
   "metadata": {},
   "source": [
    "Hosts with high response rates have better scores"
   ]
  },
  {
   "cell_type": "code",
   "execution_count": 244,
   "metadata": {},
   "outputs": [
    {
     "data": {
      "text/plain": [
       "host_is_superhost\n",
       "f    93.652893\n",
       "t    97.395473\n",
       "Name: review_scores_rating_raw, dtype: float64"
      ]
     },
     "execution_count": 244,
     "metadata": {},
     "output_type": "execute_result"
    }
   ],
   "source": [
    "# Do super hosts have better scores?\n",
    "df.groupby(['host_is_superhost'])['review_scores_rating_raw'].mean()"
   ]
  },
  {
   "cell_type": "markdown",
   "metadata": {},
   "source": [
    "They sure do"
   ]
  },
  {
   "cell_type": "code",
   "execution_count": 245,
   "metadata": {},
   "outputs": [
    {
     "data": {
      "text/plain": [
       "array(['listing_id', 'date', 'available', 'price', 'id', 'host_id',\n",
       "       'neighborhood_overview', 'notes', 'transit', 'host_response_time',\n",
       "       'host_response_rate', 'host_is_superhost', 'host_listings_count',\n",
       "       'host_has_profile_pic', 'host_identity_verified',\n",
       "       'neighbourhood_group_cleansed', 'property_type', 'room_type',\n",
       "       'accommodates', 'bathrooms', 'bedrooms', 'beds', 'bed_type',\n",
       "       'amenities', 'last_price', 'security_deposit', 'cleaning_fee',\n",
       "       'guests_included', 'minimum_nights', 'maximum_nights',\n",
       "       'availability_30', 'availability_60', 'availability_90',\n",
       "       'availability_365', 'number_of_reviews', 'review_scores_rating',\n",
       "       'review_scores_accuracy', 'review_scores_cleanliness',\n",
       "       'review_scores_checkin', 'review_scores_communication',\n",
       "       'instant_bookable', 'cancellation_policy',\n",
       "       'require_guest_profile_picture',\n",
       "       'require_guest_phone_verification',\n",
       "       'calculated_host_listings_count', 'reviews_per_month',\n",
       "       'listings_sf_null', 'host_tenure', 'Host_Seattle',\n",
       "       'host_has_about', 'Acceptance_100', 'extra_people_fee', 'month',\n",
       "       'listings_counts', 'review_scores_rating_raw'], dtype=object)"
      ]
     },
     "execution_count": 245,
     "metadata": {},
     "output_type": "execute_result"
    }
   ],
   "source": [
    "df.columns.values"
   ]
  },
  {
   "cell_type": "markdown",
   "metadata": {},
   "source": [
    "### Coorelations"
   ]
  },
  {
   "cell_type": "code",
   "execution_count": 246,
   "metadata": {},
   "outputs": [
    {
     "data": {
      "text/html": [
       "<div>\n",
       "<style scoped>\n",
       "    .dataframe tbody tr th:only-of-type {\n",
       "        vertical-align: middle;\n",
       "    }\n",
       "\n",
       "    .dataframe tbody tr th {\n",
       "        vertical-align: top;\n",
       "    }\n",
       "\n",
       "    .dataframe thead th {\n",
       "        text-align: right;\n",
       "    }\n",
       "</style>\n",
       "<table border=\"1\" class=\"dataframe\">\n",
       "  <thead>\n",
       "    <tr style=\"text-align: right;\">\n",
       "      <th></th>\n",
       "      <th>price</th>\n",
       "      <th>review_scores_rating_raw</th>\n",
       "      <th>host_tenure</th>\n",
       "      <th>reviews_per_month</th>\n",
       "      <th>listings_counts</th>\n",
       "      <th>availability_365</th>\n",
       "    </tr>\n",
       "  </thead>\n",
       "  <tbody>\n",
       "    <tr>\n",
       "      <th>price</th>\n",
       "      <td>1.000000</td>\n",
       "      <td>0.079324</td>\n",
       "      <td>0.081070</td>\n",
       "      <td>-0.162325</td>\n",
       "      <td>0.129297</td>\n",
       "      <td>-0.008300</td>\n",
       "    </tr>\n",
       "    <tr>\n",
       "      <th>review_scores_rating_raw</th>\n",
       "      <td>0.079324</td>\n",
       "      <td>1.000000</td>\n",
       "      <td>-0.033396</td>\n",
       "      <td>0.087313</td>\n",
       "      <td>-0.125735</td>\n",
       "      <td>-0.038600</td>\n",
       "    </tr>\n",
       "    <tr>\n",
       "      <th>host_tenure</th>\n",
       "      <td>0.081070</td>\n",
       "      <td>-0.033396</td>\n",
       "      <td>1.000000</td>\n",
       "      <td>-0.052677</td>\n",
       "      <td>0.246368</td>\n",
       "      <td>0.088847</td>\n",
       "    </tr>\n",
       "    <tr>\n",
       "      <th>reviews_per_month</th>\n",
       "      <td>-0.162325</td>\n",
       "      <td>0.087313</td>\n",
       "      <td>-0.052677</td>\n",
       "      <td>1.000000</td>\n",
       "      <td>-0.093999</td>\n",
       "      <td>0.034873</td>\n",
       "    </tr>\n",
       "    <tr>\n",
       "      <th>listings_counts</th>\n",
       "      <td>0.129297</td>\n",
       "      <td>-0.125735</td>\n",
       "      <td>0.246368</td>\n",
       "      <td>-0.093999</td>\n",
       "      <td>1.000000</td>\n",
       "      <td>0.093279</td>\n",
       "    </tr>\n",
       "    <tr>\n",
       "      <th>availability_365</th>\n",
       "      <td>-0.008300</td>\n",
       "      <td>-0.038600</td>\n",
       "      <td>0.088847</td>\n",
       "      <td>0.034873</td>\n",
       "      <td>0.093279</td>\n",
       "      <td>1.000000</td>\n",
       "    </tr>\n",
       "  </tbody>\n",
       "</table>\n",
       "</div>"
      ],
      "text/plain": [
       "                             price  review_scores_rating_raw  host_tenure  \\\n",
       "price                     1.000000                  0.079324     0.081070   \n",
       "review_scores_rating_raw  0.079324                  1.000000    -0.033396   \n",
       "host_tenure               0.081070                 -0.033396     1.000000   \n",
       "reviews_per_month        -0.162325                  0.087313    -0.052677   \n",
       "listings_counts           0.129297                 -0.125735     0.246368   \n",
       "availability_365         -0.008300                 -0.038600     0.088847   \n",
       "\n",
       "                          reviews_per_month  listings_counts  availability_365  \n",
       "price                             -0.162325         0.129297         -0.008300  \n",
       "review_scores_rating_raw           0.087313        -0.125735         -0.038600  \n",
       "host_tenure                       -0.052677         0.246368          0.088847  \n",
       "reviews_per_month                  1.000000        -0.093999          0.034873  \n",
       "listings_counts                   -0.093999         1.000000          0.093279  \n",
       "availability_365                   0.034873         0.093279          1.000000  "
      ]
     },
     "execution_count": 246,
     "metadata": {},
     "output_type": "execute_result"
    }
   ],
   "source": [
    "# Let's check some coorelations of interest\n",
    "df[['price', 'review_scores_rating_raw', 'host_tenure', 'reviews_per_month', 'listings_counts', 'availability_365']].corr()"
   ]
  },
  {
   "cell_type": "markdown",
   "metadata": {},
   "source": [
    "The coorelations here are not strong. There's a small, negative coorelation between reviews per month and price. There's a small, positive coorelation between listing counts and price. Host tenure and review score is slightly coorelated with price. "
   ]
  },
  {
   "cell_type": "markdown",
   "metadata": {},
   "source": [
    "### Price Prediction Modeling"
   ]
  },
  {
   "cell_type": "code",
   "execution_count": 247,
   "metadata": {},
   "outputs": [
    {
     "data": {
      "text/plain": [
       "array(['listing_id', 'date', 'available', 'price', 'id', 'host_id',\n",
       "       'neighborhood_overview', 'notes', 'transit', 'host_response_time',\n",
       "       'host_response_rate', 'host_is_superhost', 'host_listings_count',\n",
       "       'host_has_profile_pic', 'host_identity_verified',\n",
       "       'neighbourhood_group_cleansed', 'property_type', 'room_type',\n",
       "       'accommodates', 'bathrooms', 'bedrooms', 'beds', 'bed_type',\n",
       "       'amenities', 'last_price', 'security_deposit', 'cleaning_fee',\n",
       "       'guests_included', 'minimum_nights', 'maximum_nights',\n",
       "       'availability_30', 'availability_60', 'availability_90',\n",
       "       'availability_365', 'number_of_reviews', 'review_scores_rating',\n",
       "       'review_scores_accuracy', 'review_scores_cleanliness',\n",
       "       'review_scores_checkin', 'review_scores_communication',\n",
       "       'instant_bookable', 'cancellation_policy',\n",
       "       'require_guest_profile_picture',\n",
       "       'require_guest_phone_verification',\n",
       "       'calculated_host_listings_count', 'reviews_per_month',\n",
       "       'listings_sf_null', 'host_tenure', 'Host_Seattle',\n",
       "       'host_has_about', 'Acceptance_100', 'extra_people_fee', 'month',\n",
       "       'listings_counts', 'review_scores_rating_raw'], dtype=object)"
      ]
     },
     "execution_count": 247,
     "metadata": {},
     "output_type": "execute_result"
    }
   ],
   "source": [
    "# Select relevant columns\n",
    "df.columns.values"
   ]
  },
  {
   "cell_type": "code",
   "execution_count": 248,
   "metadata": {},
   "outputs": [],
   "source": [
    "df = df.drop(columns = ['listing_id', 'date', 'id', 'host_id', 'review_scores_rating_raw', 'listings_counts'])"
   ]
  },
  {
   "cell_type": "code",
   "execution_count": 249,
   "metadata": {},
   "outputs": [
    {
     "data": {
      "text/html": [
       "<div>\n",
       "<style scoped>\n",
       "    .dataframe tbody tr th:only-of-type {\n",
       "        vertical-align: middle;\n",
       "    }\n",
       "\n",
       "    .dataframe tbody tr th {\n",
       "        vertical-align: top;\n",
       "    }\n",
       "\n",
       "    .dataframe thead th {\n",
       "        text-align: right;\n",
       "    }\n",
       "</style>\n",
       "<table border=\"1\" class=\"dataframe\">\n",
       "  <thead>\n",
       "    <tr style=\"text-align: right;\">\n",
       "      <th></th>\n",
       "      <th>availability_30</th>\n",
       "      <th>availability_60</th>\n",
       "      <th>availability_90</th>\n",
       "      <th>availability_365</th>\n",
       "      <th>price</th>\n",
       "    </tr>\n",
       "  </thead>\n",
       "  <tbody>\n",
       "    <tr>\n",
       "      <th>availability_30</th>\n",
       "      <td>1.000000</td>\n",
       "      <td>0.936122</td>\n",
       "      <td>0.875778</td>\n",
       "      <td>0.503881</td>\n",
       "      <td>0.007287</td>\n",
       "    </tr>\n",
       "    <tr>\n",
       "      <th>availability_60</th>\n",
       "      <td>0.936122</td>\n",
       "      <td>1.000000</td>\n",
       "      <td>0.973353</td>\n",
       "      <td>0.572857</td>\n",
       "      <td>-0.000946</td>\n",
       "    </tr>\n",
       "    <tr>\n",
       "      <th>availability_90</th>\n",
       "      <td>0.875778</td>\n",
       "      <td>0.973353</td>\n",
       "      <td>1.000000</td>\n",
       "      <td>0.619355</td>\n",
       "      <td>-0.006877</td>\n",
       "    </tr>\n",
       "    <tr>\n",
       "      <th>availability_365</th>\n",
       "      <td>0.503881</td>\n",
       "      <td>0.572857</td>\n",
       "      <td>0.619355</td>\n",
       "      <td>1.000000</td>\n",
       "      <td>-0.008300</td>\n",
       "    </tr>\n",
       "    <tr>\n",
       "      <th>price</th>\n",
       "      <td>0.007287</td>\n",
       "      <td>-0.000946</td>\n",
       "      <td>-0.006877</td>\n",
       "      <td>-0.008300</td>\n",
       "      <td>1.000000</td>\n",
       "    </tr>\n",
       "  </tbody>\n",
       "</table>\n",
       "</div>"
      ],
      "text/plain": [
       "                  availability_30  availability_60  availability_90  \\\n",
       "availability_30          1.000000         0.936122         0.875778   \n",
       "availability_60          0.936122         1.000000         0.973353   \n",
       "availability_90          0.875778         0.973353         1.000000   \n",
       "availability_365         0.503881         0.572857         0.619355   \n",
       "price                    0.007287        -0.000946        -0.006877   \n",
       "\n",
       "                  availability_365     price  \n",
       "availability_30           0.503881  0.007287  \n",
       "availability_60           0.572857 -0.000946  \n",
       "availability_90           0.619355 -0.006877  \n",
       "availability_365          1.000000 -0.008300  \n",
       "price                    -0.008300  1.000000  "
      ]
     },
     "execution_count": 249,
     "metadata": {},
     "output_type": "execute_result"
    }
   ],
   "source": [
    "# I suspect there must be some multi-colinearity with some of these columns.\n",
    "df[['availability_30', 'availability_60', 'availability_90',\n",
    "       'availability_365', 'price']].corr()"
   ]
  },
  {
   "cell_type": "code",
   "execution_count": 250,
   "metadata": {},
   "outputs": [],
   "source": [
    "# Looks like availability 365 is least coorelated with the rest\n",
    "# and none of these columns is strongly coorelated with price.\n",
    "# I'll keep the 365 column and drop the rest\n",
    "df = df.drop(columns = ['availability_30', 'availability_60', 'availability_90'])"
   ]
  },
  {
   "cell_type": "code",
   "execution_count": 251,
   "metadata": {},
   "outputs": [
    {
     "data": {
      "text/html": [
       "<div>\n",
       "<style scoped>\n",
       "    .dataframe tbody tr th:only-of-type {\n",
       "        vertical-align: middle;\n",
       "    }\n",
       "\n",
       "    .dataframe tbody tr th {\n",
       "        vertical-align: top;\n",
       "    }\n",
       "\n",
       "    .dataframe thead th {\n",
       "        text-align: right;\n",
       "    }\n",
       "</style>\n",
       "<table border=\"1\" class=\"dataframe\">\n",
       "  <thead>\n",
       "    <tr style=\"text-align: right;\">\n",
       "      <th></th>\n",
       "      <th>review_scores_rating</th>\n",
       "      <th>review_scores_accuracy</th>\n",
       "      <th>review_scores_cleanliness</th>\n",
       "      <th>review_scores_checkin</th>\n",
       "      <th>review_scores_communication</th>\n",
       "    </tr>\n",
       "  </thead>\n",
       "  <tbody>\n",
       "    <tr>\n",
       "      <th>review_scores_rating</th>\n",
       "      <td>1.000000</td>\n",
       "      <td>0.621257</td>\n",
       "      <td>0.642882</td>\n",
       "      <td>0.521813</td>\n",
       "      <td>0.540620</td>\n",
       "    </tr>\n",
       "    <tr>\n",
       "      <th>review_scores_accuracy</th>\n",
       "      <td>0.621257</td>\n",
       "      <td>1.000000</td>\n",
       "      <td>0.543345</td>\n",
       "      <td>0.407238</td>\n",
       "      <td>0.423189</td>\n",
       "    </tr>\n",
       "    <tr>\n",
       "      <th>review_scores_cleanliness</th>\n",
       "      <td>0.642882</td>\n",
       "      <td>0.543345</td>\n",
       "      <td>1.000000</td>\n",
       "      <td>0.398696</td>\n",
       "      <td>0.388146</td>\n",
       "    </tr>\n",
       "    <tr>\n",
       "      <th>review_scores_checkin</th>\n",
       "      <td>0.521813</td>\n",
       "      <td>0.407238</td>\n",
       "      <td>0.398696</td>\n",
       "      <td>1.000000</td>\n",
       "      <td>0.696345</td>\n",
       "    </tr>\n",
       "    <tr>\n",
       "      <th>review_scores_communication</th>\n",
       "      <td>0.540620</td>\n",
       "      <td>0.423189</td>\n",
       "      <td>0.388146</td>\n",
       "      <td>0.696345</td>\n",
       "      <td>1.000000</td>\n",
       "    </tr>\n",
       "  </tbody>\n",
       "</table>\n",
       "</div>"
      ],
      "text/plain": [
       "                             review_scores_rating  review_scores_accuracy  \\\n",
       "review_scores_rating                     1.000000                0.621257   \n",
       "review_scores_accuracy                   0.621257                1.000000   \n",
       "review_scores_cleanliness                0.642882                0.543345   \n",
       "review_scores_checkin                    0.521813                0.407238   \n",
       "review_scores_communication              0.540620                0.423189   \n",
       "\n",
       "                             review_scores_cleanliness  review_scores_checkin  \\\n",
       "review_scores_rating                          0.642882               0.521813   \n",
       "review_scores_accuracy                        0.543345               0.407238   \n",
       "review_scores_cleanliness                     1.000000               0.398696   \n",
       "review_scores_checkin                         0.398696               1.000000   \n",
       "review_scores_communication                   0.388146               0.696345   \n",
       "\n",
       "                             review_scores_communication  \n",
       "review_scores_rating                            0.540620  \n",
       "review_scores_accuracy                          0.423189  \n",
       "review_scores_cleanliness                       0.388146  \n",
       "review_scores_checkin                           0.696345  \n",
       "review_scores_communication                     1.000000  "
      ]
     },
     "execution_count": 251,
     "metadata": {},
     "output_type": "execute_result"
    }
   ],
   "source": [
    "df_list[['review_scores_rating',\n",
    "       'review_scores_accuracy', 'review_scores_cleanliness',\n",
    "       'review_scores_checkin', 'review_scores_communication']].corr()"
   ]
  },
  {
   "cell_type": "code",
   "execution_count": 252,
   "metadata": {},
   "outputs": [],
   "source": [
    "# These columns are coorelated, but hopefully not so much as to throw off the model. I'll keep two of them\n",
    "df = df.drop(columns = [ 'review_scores_accuracy', 'review_scores_cleanliness',\n",
    "       'review_scores_checkin'])"
   ]
  },
  {
   "cell_type": "code",
   "execution_count": 253,
   "metadata": {},
   "outputs": [],
   "source": [
    "# Drop records where price is null\n",
    "df = df.dropna(subset = ['price'])"
   ]
  },
  {
   "cell_type": "code",
   "execution_count": 258,
   "metadata": {},
   "outputs": [
    {
     "name": "stdout",
     "output_type": "stream",
     "text": [
      "host_response_time 5\n",
      "host_response_rate 4\n",
      "host_is_superhost 2\n",
      "host_listings_count 4\n",
      "host_has_profile_pic 3\n",
      "host_identity_verified 3\n",
      "neighbourhood_group_cleansed 17\n",
      "property_type 17\n",
      "room_type 3\n",
      "bed_type 5\n",
      "amenities 3180\n",
      "last_price 270\n",
      "security_deposit 46\n",
      "cleaning_fee 115\n",
      "minimum_nights 4\n",
      "review_scores_rating 5\n",
      "review_scores_communication 4\n",
      "instant_bookable 2\n",
      "cancellation_policy 3\n",
      "require_guest_profile_picture 2\n",
      "require_guest_phone_verification 2\n",
      "extra_people_fee 4\n"
     ]
    }
   ],
   "source": [
    "# How many unique values in each string column?\n",
    "for i in list(df.loc[:, df.dtypes == 'object'].columns):\n",
    "    print(i, len(df[str(i)].unique()))"
   ]
  },
  {
   "cell_type": "code",
   "execution_count": 260,
   "metadata": {},
   "outputs": [
    {
     "data": {
      "text/plain": [
       "0     {TV,\"Cable TV\",Internet,\"Wireless Internet\",\"A...\n",
       "1     {TV,\"Cable TV\",Internet,\"Wireless Internet\",\"A...\n",
       "9     {TV,\"Cable TV\",Internet,\"Wireless Internet\",\"A...\n",
       "10    {TV,\"Cable TV\",Internet,\"Wireless Internet\",\"A...\n",
       "14    {TV,\"Cable TV\",Internet,\"Wireless Internet\",\"A...\n",
       "Name: amenities, dtype: object"
      ]
     },
     "execution_count": 260,
     "metadata": {},
     "output_type": "execute_result"
    }
   ],
   "source": [
    "# Look at amenitites\n",
    "df['amenities'].head()"
   ]
  },
  {
   "cell_type": "code",
   "execution_count": 261,
   "metadata": {},
   "outputs": [
    {
     "data": {
      "text/plain": [
       "'{TV,\"Cable TV\",Internet,\"Wireless Internet\",\"Air Conditioning\",Kitchen,Heating,\"Family/Kid Friendly\",Washer,Dryer}'"
      ]
     },
     "execution_count": 261,
     "metadata": {},
     "output_type": "execute_result"
    }
   ],
   "source": [
    "df['amenities'].head()[0]"
   ]
  },
  {
   "cell_type": "code",
   "execution_count": 265,
   "metadata": {},
   "outputs": [
    {
     "data": {
      "text/plain": [
       "array([0, '$100.00', '$1,000.00', '$500.00', '$700.00', '$150.00',\n",
       "       '$300.00', '$400.00', '$1,500.00', '$250.00', '$200.00', '$750.00',\n",
       "       '$140.00', '$800.00', '$350.00', '$600.00', '$95.00', '$5,000.00',\n",
       "       '$125.00', '$499.00', '$399.00', '$450.00', '$995.00', '$2,500.00',\n",
       "       '$175.00', '$225.00', '$120.00', '$550.00', '$99.00', '$149.00',\n",
       "       '$780.00', '$2,000.00', '$1,200.00', '$360.00', '$375.00',\n",
       "       '$199.00', '$109.00', '$449.00', '$195.00', '$295.00', '$185.00',\n",
       "       '$134.00', '$650.00', '$180.00', '$1,900.00', '$220.00'],\n",
       "      dtype=object)"
      ]
     },
     "execution_count": 265,
     "metadata": {},
     "output_type": "execute_result"
    }
   ],
   "source": [
    "# Look at security deposit\n",
    "df['security_deposit'].unique()"
   ]
  },
  {
   "cell_type": "code",
   "execution_count": 271,
   "metadata": {},
   "outputs": [],
   "source": [
    "# Convert security deposite to float\n",
    "df['security_deposit'] = df['security_deposit'].apply(lambda x: str(x).replace('$', '').replace('.00', '').replace(',', ''))"
   ]
  },
  {
   "cell_type": "code",
   "execution_count": 272,
   "metadata": {},
   "outputs": [
    {
     "data": {
      "text/plain": [
       "array(['0', '100', '1000', '500', '700', '150', '300', '400', '1500',\n",
       "       '250', '200', '750', '140', '800', '350', '600', '95', '5000',\n",
       "       '125', '499', '399', '450', '995', '2500', '175', '225', '120',\n",
       "       '550', '99', '149', '780', '2000', '1200', '360', '375', '199',\n",
       "       '109', '449', '195', '295', '185', '134', '650', '180', '1900',\n",
       "       '220'], dtype=object)"
      ]
     },
     "execution_count": 272,
     "metadata": {},
     "output_type": "execute_result"
    }
   ],
   "source": [
    "df['security_deposit'].unique()"
   ]
  },
  {
   "cell_type": "code",
   "execution_count": 273,
   "metadata": {},
   "outputs": [],
   "source": [
    "df['security_deposit'] = df['security_deposit'].astype('int')"
   ]
  },
  {
   "cell_type": "code",
   "execution_count": 276,
   "metadata": {},
   "outputs": [],
   "source": [
    "# For the sake of time, I'm going to drop amenities. I'll alsp drop last price because it's useless\n",
    "df = df.drop(columns = ['amenities', 'last_price'])"
   ]
  },
  {
   "cell_type": "code",
   "execution_count": 277,
   "metadata": {},
   "outputs": [
    {
     "name": "stdout",
     "output_type": "stream",
     "text": [
      "host_response_time 5\n",
      "host_response_rate 4\n",
      "host_is_superhost 2\n",
      "host_listings_count 4\n",
      "host_has_profile_pic 3\n",
      "host_identity_verified 3\n",
      "neighbourhood_group_cleansed 17\n",
      "property_type 17\n",
      "room_type 3\n",
      "bed_type 5\n",
      "cleaning_fee 115\n",
      "minimum_nights 4\n",
      "review_scores_rating 5\n",
      "review_scores_communication 4\n",
      "instant_bookable 2\n",
      "cancellation_policy 3\n",
      "require_guest_profile_picture 2\n",
      "require_guest_phone_verification 2\n",
      "extra_people_fee 4\n"
     ]
    }
   ],
   "source": [
    "for i in list(df.loc[:, df.dtypes == 'object'].columns):\n",
    "    print(i, len(df[str(i)].unique()))"
   ]
  },
  {
   "cell_type": "code",
   "execution_count": 279,
   "metadata": {},
   "outputs": [
    {
     "data": {
      "text/plain": [
       "array([0, '$10.00', '$20.00', '$40.00', '$300.00', '$200.00', '$125.00',\n",
       "       '$75.00', '$25.00', '$15.00', '$150.00', '$95.00', '$85.00',\n",
       "       '$89.00', '$35.00', '$250.00', '$65.00', '$100.00', '$80.00',\n",
       "       '$99.00', '$50.00', '$55.00', '$30.00', '$60.00', '$120.00',\n",
       "       '$78.00', '$12.00', '$45.00', '$264.00', '$209.00', '$149.00',\n",
       "       '$164.00', '$159.00', '$184.00', '$274.00', '$143.00', '$229.00',\n",
       "       '$169.00', '$134.00', '$194.00', '$129.00', '$179.00', '$90.00',\n",
       "       '$180.00', '$7.00', '$8.00', '$5.00', '$185.00', '$155.00',\n",
       "       '$165.00', '$175.00', '$230.00', '$70.00', '$199.00', '$110.00',\n",
       "       '$111.00', '$72.00', '$105.00', '$88.00', '$87.00', '$160.00',\n",
       "       '$13.00', '$22.00', '$28.00', '$275.00', '$195.00', '$82.00',\n",
       "       '$145.00', '$225.00', '$113.00', '$96.00', '$107.00', '$119.00',\n",
       "       '$140.00', '$29.00', '$49.00', '$6.00', '$26.00', '$83.00',\n",
       "       '$18.00', '$19.00', '$117.00', '$112.00', '$16.00', '$58.00',\n",
       "       '$170.00', '$109.00', '$64.00', '$79.00', '$130.00', '$61.00',\n",
       "       '$32.00', '$38.00', '$135.00', '$24.00', '$59.00', '$69.00',\n",
       "       '$101.00', '$71.00', '$240.00', '$21.00', '$189.00', '$9.00',\n",
       "       '$17.00', '$106.00', '$68.00', '$27.00', '$108.00', '$210.00',\n",
       "       '$39.00', '$76.00', '$97.00', '$52.00', '$142.00', '$67.00'],\n",
       "      dtype=object)"
      ]
     },
     "execution_count": 279,
     "metadata": {},
     "output_type": "execute_result"
    }
   ],
   "source": [
    "df['cleaning_fee'].unique()"
   ]
  },
  {
   "cell_type": "code",
   "execution_count": 280,
   "metadata": {},
   "outputs": [],
   "source": [
    "# Convert cleaning fee to int\n",
    "df['cleaning_fee'] = df['cleaning_fee'].apply(lambda x: str(x).replace('$', '').replace('.00', '').replace(',', ''))\n",
    "df['cleaning_fee'] = df['cleaning_fee'].astype('int')"
   ]
  },
  {
   "cell_type": "code",
   "execution_count": 281,
   "metadata": {},
   "outputs": [
    {
     "data": {
      "text/plain": [
       "46.45639633781345"
      ]
     },
     "execution_count": 281,
     "metadata": {},
     "output_type": "execute_result"
    }
   ],
   "source": [
    "df['cleaning_fee'].mean()"
   ]
  },
  {
   "cell_type": "code",
   "execution_count": 282,
   "metadata": {},
   "outputs": [
    {
     "name": "stdout",
     "output_type": "stream",
     "text": [
      "host_response_time 5\n",
      "host_response_rate 4\n",
      "host_is_superhost 2\n",
      "host_listings_count 4\n",
      "host_has_profile_pic 3\n",
      "host_identity_verified 3\n",
      "neighbourhood_group_cleansed 17\n",
      "property_type 17\n",
      "room_type 3\n",
      "bed_type 5\n",
      "minimum_nights 4\n",
      "review_scores_rating 5\n",
      "review_scores_communication 4\n",
      "instant_bookable 2\n",
      "cancellation_policy 3\n",
      "require_guest_profile_picture 2\n",
      "require_guest_phone_verification 2\n",
      "extra_people_fee 4\n"
     ]
    }
   ],
   "source": [
    "for i in list(df.loc[:, df.dtypes == 'object'].columns):\n",
    "    print(i, len(df[str(i)].unique()))"
   ]
  },
  {
   "cell_type": "code",
   "execution_count": 284,
   "metadata": {},
   "outputs": [
    {
     "data": {
      "text/plain": [
       "Index(['host_response_time', 'host_response_rate', 'host_is_superhost',\n",
       "       'host_listings_count', 'host_has_profile_pic', 'host_identity_verified',\n",
       "       'neighbourhood_group_cleansed', 'property_type', 'room_type',\n",
       "       'bed_type', 'minimum_nights', 'review_scores_rating',\n",
       "       'review_scores_communication', 'instant_bookable',\n",
       "       'cancellation_policy', 'require_guest_profile_picture',\n",
       "       'require_guest_phone_verification', 'extra_people_fee'],\n",
       "      dtype='object')"
      ]
     },
     "execution_count": 284,
     "metadata": {},
     "output_type": "execute_result"
    }
   ],
   "source": [
    "# Now let's get dummies for these categorical features\n",
    "df.loc[:, df.dtypes == 'object'].columns"
   ]
  },
  {
   "cell_type": "code",
   "execution_count": 286,
   "metadata": {},
   "outputs": [],
   "source": [
    "df = pd.get_dummies(df, columns = ['host_response_time', 'host_response_rate', 'host_is_superhost',\n",
    "       'host_listings_count', 'host_has_profile_pic', 'host_identity_verified',\n",
    "       'neighbourhood_group_cleansed', 'property_type', 'room_type',\n",
    "       'bed_type', 'minimum_nights', 'review_scores_rating',\n",
    "       'review_scores_communication', 'instant_bookable',\n",
    "       'cancellation_policy', 'require_guest_profile_picture',\n",
    "       'require_guest_phone_verification', 'extra_people_fee'], drop_first = True)"
   ]
  },
  {
   "cell_type": "code",
   "execution_count": 287,
   "metadata": {},
   "outputs": [
    {
     "data": {
      "text/plain": [
       "(928844, 94)"
      ]
     },
     "execution_count": 287,
     "metadata": {},
     "output_type": "execute_result"
    }
   ],
   "source": [
    "df.shape"
   ]
  },
  {
   "cell_type": "code",
   "execution_count": 288,
   "metadata": {},
   "outputs": [
    {
     "data": {
      "text/html": [
       "<div>\n",
       "<style scoped>\n",
       "    .dataframe tbody tr th:only-of-type {\n",
       "        vertical-align: middle;\n",
       "    }\n",
       "\n",
       "    .dataframe tbody tr th {\n",
       "        vertical-align: top;\n",
       "    }\n",
       "\n",
       "    .dataframe thead th {\n",
       "        text-align: right;\n",
       "    }\n",
       "</style>\n",
       "<table border=\"1\" class=\"dataframe\">\n",
       "  <thead>\n",
       "    <tr style=\"text-align: right;\">\n",
       "      <th></th>\n",
       "      <th>available</th>\n",
       "      <th>price</th>\n",
       "      <th>neighborhood_overview</th>\n",
       "      <th>notes</th>\n",
       "      <th>transit</th>\n",
       "      <th>accommodates</th>\n",
       "      <th>bathrooms</th>\n",
       "      <th>bedrooms</th>\n",
       "      <th>beds</th>\n",
       "      <th>security_deposit</th>\n",
       "      <th>...</th>\n",
       "      <th>review_scores_communication_Review Score Communication 7 - 10</th>\n",
       "      <th>review_scores_communication_Review Score Communication Less than 7</th>\n",
       "      <th>instant_bookable_t</th>\n",
       "      <th>cancellation_policy_moderate</th>\n",
       "      <th>cancellation_policy_strict</th>\n",
       "      <th>require_guest_profile_picture_t</th>\n",
       "      <th>require_guest_phone_verification_t</th>\n",
       "      <th>extra_people_fee_$21 - $50</th>\n",
       "      <th>extra_people_fee_Greater than $50</th>\n",
       "      <th>extra_people_fee_No Fee</th>\n",
       "    </tr>\n",
       "  </thead>\n",
       "  <tbody>\n",
       "    <tr>\n",
       "      <th>0</th>\n",
       "      <td>1</td>\n",
       "      <td>85.0</td>\n",
       "      <td>0</td>\n",
       "      <td>0</td>\n",
       "      <td>0</td>\n",
       "      <td>4</td>\n",
       "      <td>1.0</td>\n",
       "      <td>1.0</td>\n",
       "      <td>1.0</td>\n",
       "      <td>0</td>\n",
       "      <td>...</td>\n",
       "      <td>0</td>\n",
       "      <td>0</td>\n",
       "      <td>0</td>\n",
       "      <td>1</td>\n",
       "      <td>0</td>\n",
       "      <td>0</td>\n",
       "      <td>0</td>\n",
       "      <td>0</td>\n",
       "      <td>0</td>\n",
       "      <td>0</td>\n",
       "    </tr>\n",
       "    <tr>\n",
       "      <th>1</th>\n",
       "      <td>1</td>\n",
       "      <td>85.0</td>\n",
       "      <td>0</td>\n",
       "      <td>0</td>\n",
       "      <td>0</td>\n",
       "      <td>4</td>\n",
       "      <td>1.0</td>\n",
       "      <td>1.0</td>\n",
       "      <td>1.0</td>\n",
       "      <td>0</td>\n",
       "      <td>...</td>\n",
       "      <td>0</td>\n",
       "      <td>0</td>\n",
       "      <td>0</td>\n",
       "      <td>1</td>\n",
       "      <td>0</td>\n",
       "      <td>0</td>\n",
       "      <td>0</td>\n",
       "      <td>0</td>\n",
       "      <td>0</td>\n",
       "      <td>0</td>\n",
       "    </tr>\n",
       "    <tr>\n",
       "      <th>9</th>\n",
       "      <td>1</td>\n",
       "      <td>85.0</td>\n",
       "      <td>0</td>\n",
       "      <td>0</td>\n",
       "      <td>0</td>\n",
       "      <td>4</td>\n",
       "      <td>1.0</td>\n",
       "      <td>1.0</td>\n",
       "      <td>1.0</td>\n",
       "      <td>0</td>\n",
       "      <td>...</td>\n",
       "      <td>0</td>\n",
       "      <td>0</td>\n",
       "      <td>0</td>\n",
       "      <td>1</td>\n",
       "      <td>0</td>\n",
       "      <td>0</td>\n",
       "      <td>0</td>\n",
       "      <td>0</td>\n",
       "      <td>0</td>\n",
       "      <td>0</td>\n",
       "    </tr>\n",
       "    <tr>\n",
       "      <th>10</th>\n",
       "      <td>1</td>\n",
       "      <td>85.0</td>\n",
       "      <td>0</td>\n",
       "      <td>0</td>\n",
       "      <td>0</td>\n",
       "      <td>4</td>\n",
       "      <td>1.0</td>\n",
       "      <td>1.0</td>\n",
       "      <td>1.0</td>\n",
       "      <td>0</td>\n",
       "      <td>...</td>\n",
       "      <td>0</td>\n",
       "      <td>0</td>\n",
       "      <td>0</td>\n",
       "      <td>1</td>\n",
       "      <td>0</td>\n",
       "      <td>0</td>\n",
       "      <td>0</td>\n",
       "      <td>0</td>\n",
       "      <td>0</td>\n",
       "      <td>0</td>\n",
       "    </tr>\n",
       "    <tr>\n",
       "      <th>14</th>\n",
       "      <td>1</td>\n",
       "      <td>85.0</td>\n",
       "      <td>0</td>\n",
       "      <td>0</td>\n",
       "      <td>0</td>\n",
       "      <td>4</td>\n",
       "      <td>1.0</td>\n",
       "      <td>1.0</td>\n",
       "      <td>1.0</td>\n",
       "      <td>0</td>\n",
       "      <td>...</td>\n",
       "      <td>0</td>\n",
       "      <td>0</td>\n",
       "      <td>0</td>\n",
       "      <td>1</td>\n",
       "      <td>0</td>\n",
       "      <td>0</td>\n",
       "      <td>0</td>\n",
       "      <td>0</td>\n",
       "      <td>0</td>\n",
       "      <td>0</td>\n",
       "    </tr>\n",
       "  </tbody>\n",
       "</table>\n",
       "<p>5 rows × 94 columns</p>\n",
       "</div>"
      ],
      "text/plain": [
       "    available  price  neighborhood_overview  notes  transit  accommodates  \\\n",
       "0           1   85.0                      0      0        0             4   \n",
       "1           1   85.0                      0      0        0             4   \n",
       "9           1   85.0                      0      0        0             4   \n",
       "10          1   85.0                      0      0        0             4   \n",
       "14          1   85.0                      0      0        0             4   \n",
       "\n",
       "    bathrooms  bedrooms  beds  security_deposit           ...             \\\n",
       "0         1.0       1.0   1.0                 0           ...              \n",
       "1         1.0       1.0   1.0                 0           ...              \n",
       "9         1.0       1.0   1.0                 0           ...              \n",
       "10        1.0       1.0   1.0                 0           ...              \n",
       "14        1.0       1.0   1.0                 0           ...              \n",
       "\n",
       "    review_scores_communication_Review Score Communication 7 - 10  \\\n",
       "0                                                   0               \n",
       "1                                                   0               \n",
       "9                                                   0               \n",
       "10                                                  0               \n",
       "14                                                  0               \n",
       "\n",
       "    review_scores_communication_Review Score Communication Less than 7  \\\n",
       "0                                                   0                    \n",
       "1                                                   0                    \n",
       "9                                                   0                    \n",
       "10                                                  0                    \n",
       "14                                                  0                    \n",
       "\n",
       "    instant_bookable_t  cancellation_policy_moderate  \\\n",
       "0                    0                             1   \n",
       "1                    0                             1   \n",
       "9                    0                             1   \n",
       "10                   0                             1   \n",
       "14                   0                             1   \n",
       "\n",
       "    cancellation_policy_strict  require_guest_profile_picture_t  \\\n",
       "0                            0                                0   \n",
       "1                            0                                0   \n",
       "9                            0                                0   \n",
       "10                           0                                0   \n",
       "14                           0                                0   \n",
       "\n",
       "    require_guest_phone_verification_t  extra_people_fee_$21 - $50  \\\n",
       "0                                    0                           0   \n",
       "1                                    0                           0   \n",
       "9                                    0                           0   \n",
       "10                                   0                           0   \n",
       "14                                   0                           0   \n",
       "\n",
       "    extra_people_fee_Greater than $50  extra_people_fee_No Fee  \n",
       "0                                   0                        0  \n",
       "1                                   0                        0  \n",
       "9                                   0                        0  \n",
       "10                                  0                        0  \n",
       "14                                  0                        0  \n",
       "\n",
       "[5 rows x 94 columns]"
      ]
     },
     "execution_count": 288,
     "metadata": {},
     "output_type": "execute_result"
    }
   ],
   "source": [
    "df.head()"
   ]
  },
  {
   "cell_type": "code",
   "execution_count": 289,
   "metadata": {},
   "outputs": [],
   "source": [
    "# Create Target Vector\n",
    "X = df.drop(columns = ['price'])\n",
    "y = df['price']"
   ]
  },
  {
   "cell_type": "markdown",
   "metadata": {},
   "source": [
    "### Evaluation"
   ]
  },
  {
   "cell_type": "code",
   "execution_count": 300,
   "metadata": {},
   "outputs": [
    {
     "name": "stdout",
     "output_type": "stream",
     "text": [
      "Linear Regression MSE: -275024407190352366678310912.00 (+/- 1164717386841095012075175936.00)\n"
     ]
    }
   ],
   "source": [
    "# Linear Regression Model\n",
    "lm_model = LinearRegression(normalize=True) \n",
    "scores = cross_val_score(lm_model, X, y, cv=10, scoring='neg_mean_squared_error')\n",
    "print(\"Linear Regression MSE: %0.2f (+/- %0.2f)\" % (scores.mean(), scores.std() * 2))"
   ]
  },
  {
   "cell_type": "code",
   "execution_count": null,
   "metadata": {},
   "outputs": [],
   "source": [
    "# That model is no good"
   ]
  },
  {
   "cell_type": "code",
   "execution_count": 290,
   "metadata": {},
   "outputs": [],
   "source": [
    "# Model with Random forest regressor\n",
    "rf = RandomForestRegressor(n_estimators = 300)"
   ]
  },
  {
   "cell_type": "code",
   "execution_count": 299,
   "metadata": {},
   "outputs": [
    {
     "name": "stdout",
     "output_type": "stream",
     "text": [
      "Random Forest Regressor MSE: -6161.30 (+/- 4594.52)\n"
     ]
    }
   ],
   "source": [
    "# 10 fold cross validation optimizing for mean squared error.\n",
    "scores = cross_val_score(rf, X, y, cv=10, scoring='neg_mean_squared_error')\n",
    "print(\"Random Forest Regressor MSE: %0.2f (+/- %0.2f)\" % (scores.mean(), scores.std() * 2))"
   ]
  },
  {
   "cell_type": "code",
   "execution_count": null,
   "metadata": {},
   "outputs": [],
   "source": [
    "# Much better.\n",
    "\n",
    "'''For the sake of time, I have to stop here. Next steps would be the following:\n",
    "\n",
    "- Dimensionality reduction.\n",
    "- Try different models and spend time model tuning.\n",
    "- More Feature Engineering.\n",
    "\n",
    "'''"
   ]
  },
  {
   "cell_type": "code",
   "execution_count": null,
   "metadata": {},
   "outputs": [],
   "source": []
  }
 ],
 "metadata": {
  "kernelspec": {
   "display_name": "Python 3",
   "language": "python",
   "name": "python3"
  },
  "language_info": {
   "codemirror_mode": {
    "name": "ipython",
    "version": 3
   },
   "file_extension": ".py",
   "mimetype": "text/x-python",
   "name": "python",
   "nbconvert_exporter": "python",
   "pygments_lexer": "ipython3",
   "version": "3.6.5"
  }
 },
 "nbformat": 4,
 "nbformat_minor": 2
}
